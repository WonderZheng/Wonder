{
 "cells": [
  {
   "cell_type": "code",
   "execution_count": 1,
   "id": "8d359c8e-f562-4ec5-9725-9171c08569d2",
   "metadata": {},
   "outputs": [
    {
     "name": "stdout",
     "output_type": "stream",
     "text": [
      "Defaulting to user installation because normal site-packages is not writeable\n",
      "Looking in links: /usr/share/pip-wheels\n",
      "Requirement already satisfied: pandas in /opt/conda/envs/anaconda-2024.02-py310/lib/python3.10/site-packages (2.1.4)\n",
      "Requirement already satisfied: plotly in /opt/conda/envs/anaconda-2024.02-py310/lib/python3.10/site-packages (5.19.0)\n",
      "Requirement already satisfied: ipywidgets in /opt/conda/envs/anaconda-2024.02-py310/lib/python3.10/site-packages (8.1.2)\n",
      "Collecting voila\n",
      "  Downloading voila-0.5.8-py3-none-any.whl.metadata (9.5 kB)\n",
      "Requirement already satisfied: numpy<2,>=1.22.4 in /opt/conda/envs/anaconda-2024.02-py310/lib/python3.10/site-packages (from pandas) (1.26.4)\n",
      "Requirement already satisfied: python-dateutil>=2.8.2 in /opt/conda/envs/anaconda-2024.02-py310/lib/python3.10/site-packages (from pandas) (2.8.2)\n",
      "Requirement already satisfied: pytz>=2020.1 in /opt/conda/envs/anaconda-2024.02-py310/lib/python3.10/site-packages (from pandas) (2023.3.post1)\n",
      "Requirement already satisfied: tzdata>=2022.1 in /opt/conda/envs/anaconda-2024.02-py310/lib/python3.10/site-packages (from pandas) (2023.3)\n",
      "Requirement already satisfied: tenacity>=6.2.0 in /opt/conda/envs/anaconda-2024.02-py310/lib/python3.10/site-packages (from plotly) (8.2.2)\n",
      "Requirement already satisfied: packaging in /opt/conda/envs/anaconda-2024.02-py310/lib/python3.10/site-packages (from plotly) (23.2)\n",
      "Requirement already satisfied: comm>=0.1.3 in /opt/conda/envs/anaconda-2024.02-py310/lib/python3.10/site-packages (from ipywidgets) (0.2.1)\n",
      "Requirement already satisfied: ipython>=6.1.0 in /opt/conda/envs/anaconda-2024.02-py310/lib/python3.10/site-packages (from ipywidgets) (8.20.0)\n",
      "Requirement already satisfied: traitlets>=4.3.1 in /opt/conda/envs/anaconda-2024.02-py310/lib/python3.10/site-packages (from ipywidgets) (5.7.1)\n",
      "Requirement already satisfied: widgetsnbextension~=4.0.10 in /opt/conda/envs/anaconda-2024.02-py310/lib/python3.10/site-packages (from ipywidgets) (4.0.10)\n",
      "Requirement already satisfied: jupyterlab-widgets~=3.0.10 in /opt/conda/envs/anaconda-2024.02-py310/lib/python3.10/site-packages (from ipywidgets) (3.0.10)\n",
      "Requirement already satisfied: jupyter-client<9,>=7.4.4 in /opt/conda/envs/anaconda-2024.02-py310/lib/python3.10/site-packages (from voila) (8.6.0)\n",
      "Requirement already satisfied: jupyter-core>=4.11.0 in /opt/conda/envs/anaconda-2024.02-py310/lib/python3.10/site-packages (from voila) (5.5.0)\n",
      "Requirement already satisfied: jupyter-server<3,>=1.18 in /opt/conda/envs/anaconda-2024.02-py310/lib/python3.10/site-packages (from voila) (2.10.0)\n",
      "Requirement already satisfied: jupyterlab-server<3,>=2.3.0 in /opt/conda/envs/anaconda-2024.02-py310/lib/python3.10/site-packages (from voila) (2.25.1)\n",
      "Requirement already satisfied: nbclient>=0.4.0 in /opt/conda/envs/anaconda-2024.02-py310/lib/python3.10/site-packages (from voila) (0.8.0)\n",
      "Requirement already satisfied: nbconvert<8,>=6.4.5 in /opt/conda/envs/anaconda-2024.02-py310/lib/python3.10/site-packages (from voila) (7.10.0)\n",
      "Collecting websockets>=9.0 (from voila)\n",
      "  Downloading websockets-15.0.1-cp310-cp310-manylinux_2_5_x86_64.manylinux1_x86_64.manylinux_2_17_x86_64.manylinux2014_x86_64.whl.metadata (6.8 kB)\n",
      "Requirement already satisfied: decorator in /opt/conda/envs/anaconda-2024.02-py310/lib/python3.10/site-packages (from ipython>=6.1.0->ipywidgets) (5.1.1)\n",
      "Requirement already satisfied: jedi>=0.16 in /opt/conda/envs/anaconda-2024.02-py310/lib/python3.10/site-packages (from ipython>=6.1.0->ipywidgets) (0.18.1)\n",
      "Requirement already satisfied: matplotlib-inline in /opt/conda/envs/anaconda-2024.02-py310/lib/python3.10/site-packages (from ipython>=6.1.0->ipywidgets) (0.1.6)\n",
      "Requirement already satisfied: prompt-toolkit<3.1.0,>=3.0.41 in /opt/conda/envs/anaconda-2024.02-py310/lib/python3.10/site-packages (from ipython>=6.1.0->ipywidgets) (3.0.43)\n",
      "Requirement already satisfied: pygments>=2.4.0 in /opt/conda/envs/anaconda-2024.02-py310/lib/python3.10/site-packages (from ipython>=6.1.0->ipywidgets) (2.15.1)\n",
      "Requirement already satisfied: stack-data in /opt/conda/envs/anaconda-2024.02-py310/lib/python3.10/site-packages (from ipython>=6.1.0->ipywidgets) (0.2.0)\n",
      "Requirement already satisfied: exceptiongroup in /opt/conda/envs/anaconda-2024.02-py310/lib/python3.10/site-packages (from ipython>=6.1.0->ipywidgets) (1.2.0)\n",
      "Requirement already satisfied: pexpect>4.3 in /opt/conda/envs/anaconda-2024.02-py310/lib/python3.10/site-packages (from ipython>=6.1.0->ipywidgets) (4.8.0)\n",
      "Requirement already satisfied: pyzmq>=23.0 in /opt/conda/envs/anaconda-2024.02-py310/lib/python3.10/site-packages (from jupyter-client<9,>=7.4.4->voila) (25.1.2)\n",
      "Requirement already satisfied: tornado>=6.2 in /opt/conda/envs/anaconda-2024.02-py310/lib/python3.10/site-packages (from jupyter-client<9,>=7.4.4->voila) (6.3.3)\n",
      "Requirement already satisfied: platformdirs>=2.5 in /opt/conda/envs/anaconda-2024.02-py310/lib/python3.10/site-packages (from jupyter-core>=4.11.0->voila) (2.5.2)\n",
      "Requirement already satisfied: anyio>=3.1.0 in /opt/conda/envs/anaconda-2024.02-py310/lib/python3.10/site-packages (from jupyter-server<3,>=1.18->voila) (4.2.0)\n",
      "Requirement already satisfied: argon2-cffi in /opt/conda/envs/anaconda-2024.02-py310/lib/python3.10/site-packages (from jupyter-server<3,>=1.18->voila) (21.3.0)\n",
      "Requirement already satisfied: jinja2 in /opt/conda/envs/anaconda-2024.02-py310/lib/python3.10/site-packages (from jupyter-server<3,>=1.18->voila) (3.1.3)\n",
      "Requirement already satisfied: jupyter-events>=0.6.0 in /opt/conda/envs/anaconda-2024.02-py310/lib/python3.10/site-packages (from jupyter-server<3,>=1.18->voila) (0.8.0)\n",
      "Requirement already satisfied: jupyter-server-terminals in /opt/conda/envs/anaconda-2024.02-py310/lib/python3.10/site-packages (from jupyter-server<3,>=1.18->voila) (0.4.4)\n",
      "Requirement already satisfied: nbformat>=5.3.0 in /opt/conda/envs/anaconda-2024.02-py310/lib/python3.10/site-packages (from jupyter-server<3,>=1.18->voila) (5.9.2)\n",
      "Requirement already satisfied: overrides in /opt/conda/envs/anaconda-2024.02-py310/lib/python3.10/site-packages (from jupyter-server<3,>=1.18->voila) (7.4.0)\n",
      "Requirement already satisfied: prometheus-client in /opt/conda/envs/anaconda-2024.02-py310/lib/python3.10/site-packages (from jupyter-server<3,>=1.18->voila) (0.14.1)\n",
      "Requirement already satisfied: send2trash>=1.8.2 in /opt/conda/envs/anaconda-2024.02-py310/lib/python3.10/site-packages (from jupyter-server<3,>=1.18->voila) (1.8.2)\n",
      "Requirement already satisfied: terminado>=0.8.3 in /opt/conda/envs/anaconda-2024.02-py310/lib/python3.10/site-packages (from jupyter-server<3,>=1.18->voila) (0.17.1)\n",
      "Requirement already satisfied: websocket-client in /opt/conda/envs/anaconda-2024.02-py310/lib/python3.10/site-packages (from jupyter-server<3,>=1.18->voila) (0.58.0)\n",
      "Requirement already satisfied: babel>=2.10 in /opt/conda/envs/anaconda-2024.02-py310/lib/python3.10/site-packages (from jupyterlab-server<3,>=2.3.0->voila) (2.11.0)\n",
      "Requirement already satisfied: json5>=0.9.0 in /opt/conda/envs/anaconda-2024.02-py310/lib/python3.10/site-packages (from jupyterlab-server<3,>=2.3.0->voila) (0.9.6)\n",
      "Requirement already satisfied: jsonschema>=4.18.0 in /opt/conda/envs/anaconda-2024.02-py310/lib/python3.10/site-packages (from jupyterlab-server<3,>=2.3.0->voila) (4.19.2)\n",
      "Requirement already satisfied: requests>=2.31 in /opt/conda/envs/anaconda-2024.02-py310/lib/python3.10/site-packages (from jupyterlab-server<3,>=2.3.0->voila) (2.31.0)\n",
      "Requirement already satisfied: beautifulsoup4 in /opt/conda/envs/anaconda-2024.02-py310/lib/python3.10/site-packages (from nbconvert<8,>=6.4.5->voila) (4.12.2)\n",
      "Requirement already satisfied: bleach!=5.0.0 in /opt/conda/envs/anaconda-2024.02-py310/lib/python3.10/site-packages (from nbconvert<8,>=6.4.5->voila) (4.1.0)\n",
      "Requirement already satisfied: defusedxml in /opt/conda/envs/anaconda-2024.02-py310/lib/python3.10/site-packages (from nbconvert<8,>=6.4.5->voila) (0.7.1)\n",
      "Requirement already satisfied: jupyterlab-pygments in /opt/conda/envs/anaconda-2024.02-py310/lib/python3.10/site-packages (from nbconvert<8,>=6.4.5->voila) (0.1.2)\n",
      "Requirement already satisfied: markupsafe>=2.0 in /opt/conda/envs/anaconda-2024.02-py310/lib/python3.10/site-packages (from nbconvert<8,>=6.4.5->voila) (2.1.3)\n",
      "Requirement already satisfied: mistune<4,>=2.0.3 in /opt/conda/envs/anaconda-2024.02-py310/lib/python3.10/site-packages (from nbconvert<8,>=6.4.5->voila) (2.0.4)\n",
      "Requirement already satisfied: pandocfilters>=1.4.1 in /opt/conda/envs/anaconda-2024.02-py310/lib/python3.10/site-packages (from nbconvert<8,>=6.4.5->voila) (1.5.0)\n",
      "Requirement already satisfied: tinycss2 in /opt/conda/envs/anaconda-2024.02-py310/lib/python3.10/site-packages (from nbconvert<8,>=6.4.5->voila) (1.2.1)\n",
      "Requirement already satisfied: six>=1.5 in /opt/conda/envs/anaconda-2024.02-py310/lib/python3.10/site-packages (from python-dateutil>=2.8.2->pandas) (1.16.0)\n",
      "Requirement already satisfied: idna>=2.8 in /opt/conda/envs/anaconda-2024.02-py310/lib/python3.10/site-packages (from anyio>=3.1.0->jupyter-server<3,>=1.18->voila) (3.4)\n",
      "Requirement already satisfied: sniffio>=1.1 in /opt/conda/envs/anaconda-2024.02-py310/lib/python3.10/site-packages (from anyio>=3.1.0->jupyter-server<3,>=1.18->voila) (1.3.0)\n",
      "Requirement already satisfied: typing-extensions>=4.1 in /opt/conda/envs/anaconda-2024.02-py310/lib/python3.10/site-packages (from anyio>=3.1.0->jupyter-server<3,>=1.18->voila) (4.9.0)\n",
      "Requirement already satisfied: webencodings in /opt/conda/envs/anaconda-2024.02-py310/lib/python3.10/site-packages (from bleach!=5.0.0->nbconvert<8,>=6.4.5->voila) (0.5.1)\n",
      "Requirement already satisfied: parso<0.9.0,>=0.8.0 in /opt/conda/envs/anaconda-2024.02-py310/lib/python3.10/site-packages (from jedi>=0.16->ipython>=6.1.0->ipywidgets) (0.8.3)\n",
      "Requirement already satisfied: attrs>=22.2.0 in /opt/conda/envs/anaconda-2024.02-py310/lib/python3.10/site-packages (from jsonschema>=4.18.0->jupyterlab-server<3,>=2.3.0->voila) (23.1.0)\n",
      "Requirement already satisfied: jsonschema-specifications>=2023.03.6 in /opt/conda/envs/anaconda-2024.02-py310/lib/python3.10/site-packages (from jsonschema>=4.18.0->jupyterlab-server<3,>=2.3.0->voila) (2023.7.1)\n",
      "Requirement already satisfied: referencing>=0.28.4 in /opt/conda/envs/anaconda-2024.02-py310/lib/python3.10/site-packages (from jsonschema>=4.18.0->jupyterlab-server<3,>=2.3.0->voila) (0.30.2)\n",
      "Requirement already satisfied: rpds-py>=0.7.1 in /opt/conda/envs/anaconda-2024.02-py310/lib/python3.10/site-packages (from jsonschema>=4.18.0->jupyterlab-server<3,>=2.3.0->voila) (0.10.6)\n",
      "Requirement already satisfied: python-json-logger>=2.0.4 in /opt/conda/envs/anaconda-2024.02-py310/lib/python3.10/site-packages (from jupyter-events>=0.6.0->jupyter-server<3,>=1.18->voila) (2.0.7)\n",
      "Requirement already satisfied: pyyaml>=5.3 in /opt/conda/envs/anaconda-2024.02-py310/lib/python3.10/site-packages (from jupyter-events>=0.6.0->jupyter-server<3,>=1.18->voila) (6.0.1)\n",
      "Requirement already satisfied: rfc3339-validator in /opt/conda/envs/anaconda-2024.02-py310/lib/python3.10/site-packages (from jupyter-events>=0.6.0->jupyter-server<3,>=1.18->voila) (0.1.4)\n",
      "Requirement already satisfied: rfc3986-validator>=0.1.1 in /opt/conda/envs/anaconda-2024.02-py310/lib/python3.10/site-packages (from jupyter-events>=0.6.0->jupyter-server<3,>=1.18->voila) (0.1.1)\n",
      "Requirement already satisfied: fastjsonschema in /opt/conda/envs/anaconda-2024.02-py310/lib/python3.10/site-packages (from nbformat>=5.3.0->jupyter-server<3,>=1.18->voila) (2.16.2)\n",
      "Requirement already satisfied: ptyprocess>=0.5 in /opt/conda/envs/anaconda-2024.02-py310/lib/python3.10/site-packages (from pexpect>4.3->ipython>=6.1.0->ipywidgets) (0.7.0)\n",
      "Requirement already satisfied: wcwidth in /opt/conda/envs/anaconda-2024.02-py310/lib/python3.10/site-packages (from prompt-toolkit<3.1.0,>=3.0.41->ipython>=6.1.0->ipywidgets) (0.2.5)\n",
      "Requirement already satisfied: charset-normalizer<4,>=2 in /opt/conda/envs/anaconda-2024.02-py310/lib/python3.10/site-packages (from requests>=2.31->jupyterlab-server<3,>=2.3.0->voila) (2.0.4)\n",
      "Requirement already satisfied: urllib3<3,>=1.21.1 in /opt/conda/envs/anaconda-2024.02-py310/lib/python3.10/site-packages (from requests>=2.31->jupyterlab-server<3,>=2.3.0->voila) (2.0.7)\n",
      "Requirement already satisfied: certifi>=2017.4.17 in /opt/conda/envs/anaconda-2024.02-py310/lib/python3.10/site-packages (from requests>=2.31->jupyterlab-server<3,>=2.3.0->voila) (2024.2.2)\n",
      "Requirement already satisfied: argon2-cffi-bindings in /opt/conda/envs/anaconda-2024.02-py310/lib/python3.10/site-packages (from argon2-cffi->jupyter-server<3,>=1.18->voila) (21.2.0)\n",
      "Requirement already satisfied: soupsieve>1.2 in /opt/conda/envs/anaconda-2024.02-py310/lib/python3.10/site-packages (from beautifulsoup4->nbconvert<8,>=6.4.5->voila) (2.5)\n",
      "Requirement already satisfied: executing in /opt/conda/envs/anaconda-2024.02-py310/lib/python3.10/site-packages (from stack-data->ipython>=6.1.0->ipywidgets) (0.8.3)\n",
      "Requirement already satisfied: asttokens in /opt/conda/envs/anaconda-2024.02-py310/lib/python3.10/site-packages (from stack-data->ipython>=6.1.0->ipywidgets) (2.0.5)\n",
      "Requirement already satisfied: pure-eval in /opt/conda/envs/anaconda-2024.02-py310/lib/python3.10/site-packages (from stack-data->ipython>=6.1.0->ipywidgets) (0.2.2)\n",
      "Collecting fqdn (from jsonschema[format-nongpl]>=4.18.0->jupyter-events>=0.6.0->jupyter-server<3,>=1.18->voila)\n",
      "  Downloading fqdn-1.5.1-py3-none-any.whl.metadata (1.4 kB)\n",
      "Collecting isoduration (from jsonschema[format-nongpl]>=4.18.0->jupyter-events>=0.6.0->jupyter-server<3,>=1.18->voila)\n",
      "  Downloading isoduration-20.11.0-py3-none-any.whl.metadata (5.7 kB)\n",
      "Collecting jsonpointer>1.13 (from jsonschema[format-nongpl]>=4.18.0->jupyter-events>=0.6.0->jupyter-server<3,>=1.18->voila)\n",
      "  Downloading jsonpointer-3.0.0-py2.py3-none-any.whl.metadata (2.3 kB)\n",
      "Collecting uri-template (from jsonschema[format-nongpl]>=4.18.0->jupyter-events>=0.6.0->jupyter-server<3,>=1.18->voila)\n",
      "  Downloading uri_template-1.3.0-py3-none-any.whl.metadata (8.8 kB)\n",
      "Collecting webcolors>=1.11 (from jsonschema[format-nongpl]>=4.18.0->jupyter-events>=0.6.0->jupyter-server<3,>=1.18->voila)\n",
      "  Downloading webcolors-24.11.1-py3-none-any.whl.metadata (2.2 kB)\n",
      "Requirement already satisfied: cffi>=1.0.1 in /opt/conda/envs/anaconda-2024.02-py310/lib/python3.10/site-packages (from argon2-cffi-bindings->argon2-cffi->jupyter-server<3,>=1.18->voila) (1.16.0)\n",
      "Requirement already satisfied: pycparser in /opt/conda/envs/anaconda-2024.02-py310/lib/python3.10/site-packages (from cffi>=1.0.1->argon2-cffi-bindings->argon2-cffi->jupyter-server<3,>=1.18->voila) (2.21)\n",
      "Requirement already satisfied: arrow>=0.15.0 in /opt/conda/envs/anaconda-2024.02-py310/lib/python3.10/site-packages (from isoduration->jsonschema[format-nongpl]>=4.18.0->jupyter-events>=0.6.0->jupyter-server<3,>=1.18->voila) (1.2.3)\n",
      "Downloading voila-0.5.8-py3-none-any.whl (4.5 MB)\n",
      "\u001b[2K   \u001b[38;5;70m━━━━━━━━━━━━━━━━━━━━━━━━━━━━━━━━━━━━━━━━\u001b[0m \u001b[32m4.5/4.5 MB\u001b[0m \u001b[31m41.0 MB/s\u001b[0m eta \u001b[36m0:00:00\u001b[0m \u001b[36m0:00:01\u001b[0m\n",
      "\u001b[?25hDownloading websockets-15.0.1-cp310-cp310-manylinux_2_5_x86_64.manylinux1_x86_64.manylinux_2_17_x86_64.manylinux2014_x86_64.whl (181 kB)\n",
      "\u001b[2K   \u001b[38;5;70m━━━━━━━━━━━━━━━━━━━━━━━━━━━━━━━━━━━━━━━━\u001b[0m \u001b[32m181.6/181.6 kB\u001b[0m \u001b[31m2.8 MB/s\u001b[0m eta \u001b[36m0:00:00\u001b[0m.9 MB/s\u001b[0m eta \u001b[36m0:00:01\u001b[0m\n",
      "\u001b[?25hDownloading jsonpointer-3.0.0-py2.py3-none-any.whl (7.6 kB)\n",
      "Downloading webcolors-24.11.1-py3-none-any.whl (14 kB)\n",
      "Downloading fqdn-1.5.1-py3-none-any.whl (9.1 kB)\n",
      "Downloading isoduration-20.11.0-py3-none-any.whl (11 kB)\n",
      "Downloading uri_template-1.3.0-py3-none-any.whl (11 kB)\n",
      "Installing collected packages: websockets, webcolors, uri-template, jsonpointer, fqdn, isoduration, voila\n",
      "\u001b[33m  WARNING: The script websockets is installed in '/home/b2d90359-e780-4192-8988-8463c38bce09/.local/bin' which is not on PATH.\n",
      "  Consider adding this directory to PATH or, if you prefer to suppress this warning, use --no-warn-script-location.\u001b[0m\u001b[33m\n",
      "\u001b[0m\u001b[33m  WARNING: The script voila is installed in '/home/b2d90359-e780-4192-8988-8463c38bce09/.local/bin' which is not on PATH.\n",
      "  Consider adding this directory to PATH or, if you prefer to suppress this warning, use --no-warn-script-location.\u001b[0m\u001b[33m\n",
      "\u001b[0mSuccessfully installed fqdn-1.5.1 isoduration-20.11.0 jsonpointer-3.0.0 uri-template-1.3.0 voila-0.5.8 webcolors-24.11.1 websockets-15.0.1\n",
      "Note: you may need to restart the kernel to use updated packages.\n"
     ]
    }
   ],
   "source": [
    "pip install pandas plotly ipywidgets voila"
   ]
  },
  {
   "cell_type": "code",
   "execution_count": 10,
   "id": "ac3e3a28-fa53-4fc6-96f4-336844794b2e",
   "metadata": {},
   "outputs": [
    {
     "data": {
      "text/html": [
       "\n",
       "<h1 style='color:#D35400; font-family:Georgia; font-size:38px;'>📊 UOP Library Dashboard</h1>\n",
       "<h3 style='color:#884EA0;'>📅 Date: 2025-03-31</h3>\n",
       "<h3 style='color:#2471A3;'>👥 Total Visitors Today: 587</h3>\n"
      ],
      "text/plain": [
       "<IPython.core.display.HTML object>"
      ]
     },
     "metadata": {},
     "output_type": "display_data"
    },
    {
     "data": {
      "text/markdown": [
       "\n",
       "### 📈 Dashboard Charts Explained:\n",
       "- **Chart 1:** Visitors per Zone\n",
       "- **Chart 2:** Seat Utilization\n",
       "- **Chart 3:** Available Seats\n",
       "- **Chart 4:** Calendar – library events (past 30 days)\n"
      ],
      "text/plain": [
       "<IPython.core.display.Markdown object>"
      ]
     },
     "metadata": {},
     "output_type": "display_data"
    },
    {
     "data": {
      "application/vnd.plotly.v1+json": {
       "config": {
        "plotlyServerURL": "https://plot.ly"
       },
       "data": [
        {
         "marker": {
          "color": "#D98880"
         },
         "name": "Visitors",
         "text": [
          22,
          54,
          75,
          29,
          49,
          85,
          82,
          109,
          82
         ],
         "textposition": "auto",
         "type": "bar",
         "x": [
          "1F - Main Hall",
          "1F - Study Area 100-112",
          "1F - The Cube",
          "1F - Learning Lab",
          "2F - Study Area 200-214",
          "2F - Writing Center",
          "2F - Center for Teaching & Learning",
          "2F - Learning Lab",
          "2F - Multifaith Meditation Room"
         ],
         "xaxis": "x",
         "y": [
          22,
          54,
          75,
          29,
          49,
          85,
          82,
          109,
          82
         ],
         "yaxis": "y"
        },
        {
         "domain": {
          "x": [
           0.55,
           1
          ],
          "y": [
           0.625,
           1
          ]
         },
         "hole": 0.3,
         "labels": [
          "1F - Main Hall",
          "1F - Study Area 100-112",
          "1F - The Cube",
          "1F - Learning Lab",
          "2F - Study Area 200-214",
          "2F - Writing Center",
          "2F - Center for Teaching & Learning",
          "2F - Learning Lab",
          "2F - Multifaith Meditation Room"
         ],
         "marker": {
          "colors": [
           "#D98880",
           "#E59866",
           "#F7DC6F",
           "#D7BDE2",
           "#F5B7B1",
           "#FAD7A0",
           "#F9E79F",
           "#FADBD8",
           "#EDBB99"
          ]
         },
         "name": "Utilization",
         "type": "pie",
         "values": [
          8.8,
          36,
          72.5,
          56.7,
          25,
          100,
          100,
          100,
          100
         ]
        },
        {
         "marker": {
          "color": "#D7BDE2"
         },
         "name": "Available Seats",
         "text": [
          73,
          64,
          11,
          13,
          75,
          0,
          0,
          0,
          0
         ],
         "textposition": "auto",
         "type": "bar",
         "x": [
          "1F - Main Hall",
          "1F - Study Area 100-112",
          "1F - The Cube",
          "1F - Learning Lab",
          "2F - Study Area 200-214",
          "2F - Writing Center",
          "2F - Center for Teaching & Learning",
          "2F - Learning Lab",
          "2F - Multifaith Meditation Room"
         ],
         "xaxis": "x2",
         "y": [
          73,
          64,
          11,
          13,
          75,
          0,
          0,
          0,
          0
         ],
         "yaxis": "y2"
        },
        {
         "cells": {
          "align": "left",
          "fill": {
           "color": [
            [
             "#F9EBEA",
             "#F9EBEA",
             "#F9EBEA",
             "#F9EBEA",
             "#F9EBEA"
            ],
            [
             "#F9EBEA",
             "#F9EBEA",
             "#F9EBEA",
             "#F9EBEA",
             "#F9EBEA"
            ],
            [
             "#F9EBEA",
             "#F9EBEA",
             "#F9EBEA",
             "#F9EBEA",
             "#F9EBEA"
            ]
           ]
          },
          "font": {
           "size": 11
          },
          "values": [
           [
            "2025-03-03",
            "2025-03-07",
            "2025-03-15",
            "2025-03-24",
            "2025-03-29"
           ],
           [
            "Mon",
            "Fri",
            "Sat",
            "Mon",
            "Sat"
           ],
           [
            "🎨 Art Exhibit",
            "🎨 Art Exhibit",
            "📚 Book Club",
            "🎨 Art Exhibit",
            "📚 Book Club"
           ]
          ]
         },
         "domain": {
          "x": [
           0.55,
           1
          ],
          "y": [
           0,
           0.375
          ]
         },
         "header": {
          "align": "left",
          "fill": {
           "color": "#F7DC6F"
          },
          "font": {
           "color": "black",
           "size": 12
          },
          "values": [
           "Date",
           "Day",
           "Event"
          ]
         },
         "type": "table"
        }
       ],
       "layout": {
        "annotations": [
         {
          "font": {
           "size": 16
          },
          "showarrow": false,
          "text": "Visitors per Zone",
          "x": 0.225,
          "xanchor": "center",
          "xref": "paper",
          "y": 1,
          "yanchor": "bottom",
          "yref": "paper"
         },
         {
          "font": {
           "size": 16
          },
          "showarrow": false,
          "text": "Seat Utilization by Zone",
          "x": 0.775,
          "xanchor": "center",
          "xref": "paper",
          "y": 1,
          "yanchor": "bottom",
          "yref": "paper"
         },
         {
          "font": {
           "size": 16
          },
          "showarrow": false,
          "text": "Available Seats per Zone",
          "x": 0.225,
          "xanchor": "center",
          "xref": "paper",
          "y": 0.375,
          "yanchor": "bottom",
          "yref": "paper"
         },
         {
          "font": {
           "size": 16
          },
          "showarrow": false,
          "text": "Library Events Calendar",
          "x": 0.775,
          "xanchor": "center",
          "xref": "paper",
          "y": 0.375,
          "yanchor": "bottom",
          "yref": "paper"
         }
        ],
        "font": {
         "family": "Segoe UI",
         "size": 13
        },
        "height": 800,
        "margin": {
         "b": 40,
         "l": 30,
         "r": 30,
         "t": 60
        },
        "showlegend": false,
        "template": {
         "data": {
          "bar": [
           {
            "error_x": {
             "color": "#2a3f5f"
            },
            "error_y": {
             "color": "#2a3f5f"
            },
            "marker": {
             "line": {
              "color": "#E5ECF6",
              "width": 0.5
             },
             "pattern": {
              "fillmode": "overlay",
              "size": 10,
              "solidity": 0.2
             }
            },
            "type": "bar"
           }
          ],
          "barpolar": [
           {
            "marker": {
             "line": {
              "color": "#E5ECF6",
              "width": 0.5
             },
             "pattern": {
              "fillmode": "overlay",
              "size": 10,
              "solidity": 0.2
             }
            },
            "type": "barpolar"
           }
          ],
          "carpet": [
           {
            "aaxis": {
             "endlinecolor": "#2a3f5f",
             "gridcolor": "white",
             "linecolor": "white",
             "minorgridcolor": "white",
             "startlinecolor": "#2a3f5f"
            },
            "baxis": {
             "endlinecolor": "#2a3f5f",
             "gridcolor": "white",
             "linecolor": "white",
             "minorgridcolor": "white",
             "startlinecolor": "#2a3f5f"
            },
            "type": "carpet"
           }
          ],
          "choropleth": [
           {
            "colorbar": {
             "outlinewidth": 0,
             "ticks": ""
            },
            "type": "choropleth"
           }
          ],
          "contour": [
           {
            "colorbar": {
             "outlinewidth": 0,
             "ticks": ""
            },
            "colorscale": [
             [
              0,
              "#0d0887"
             ],
             [
              0.1111111111111111,
              "#46039f"
             ],
             [
              0.2222222222222222,
              "#7201a8"
             ],
             [
              0.3333333333333333,
              "#9c179e"
             ],
             [
              0.4444444444444444,
              "#bd3786"
             ],
             [
              0.5555555555555556,
              "#d8576b"
             ],
             [
              0.6666666666666666,
              "#ed7953"
             ],
             [
              0.7777777777777778,
              "#fb9f3a"
             ],
             [
              0.8888888888888888,
              "#fdca26"
             ],
             [
              1,
              "#f0f921"
             ]
            ],
            "type": "contour"
           }
          ],
          "contourcarpet": [
           {
            "colorbar": {
             "outlinewidth": 0,
             "ticks": ""
            },
            "type": "contourcarpet"
           }
          ],
          "heatmap": [
           {
            "colorbar": {
             "outlinewidth": 0,
             "ticks": ""
            },
            "colorscale": [
             [
              0,
              "#0d0887"
             ],
             [
              0.1111111111111111,
              "#46039f"
             ],
             [
              0.2222222222222222,
              "#7201a8"
             ],
             [
              0.3333333333333333,
              "#9c179e"
             ],
             [
              0.4444444444444444,
              "#bd3786"
             ],
             [
              0.5555555555555556,
              "#d8576b"
             ],
             [
              0.6666666666666666,
              "#ed7953"
             ],
             [
              0.7777777777777778,
              "#fb9f3a"
             ],
             [
              0.8888888888888888,
              "#fdca26"
             ],
             [
              1,
              "#f0f921"
             ]
            ],
            "type": "heatmap"
           }
          ],
          "heatmapgl": [
           {
            "colorbar": {
             "outlinewidth": 0,
             "ticks": ""
            },
            "colorscale": [
             [
              0,
              "#0d0887"
             ],
             [
              0.1111111111111111,
              "#46039f"
             ],
             [
              0.2222222222222222,
              "#7201a8"
             ],
             [
              0.3333333333333333,
              "#9c179e"
             ],
             [
              0.4444444444444444,
              "#bd3786"
             ],
             [
              0.5555555555555556,
              "#d8576b"
             ],
             [
              0.6666666666666666,
              "#ed7953"
             ],
             [
              0.7777777777777778,
              "#fb9f3a"
             ],
             [
              0.8888888888888888,
              "#fdca26"
             ],
             [
              1,
              "#f0f921"
             ]
            ],
            "type": "heatmapgl"
           }
          ],
          "histogram": [
           {
            "marker": {
             "pattern": {
              "fillmode": "overlay",
              "size": 10,
              "solidity": 0.2
             }
            },
            "type": "histogram"
           }
          ],
          "histogram2d": [
           {
            "colorbar": {
             "outlinewidth": 0,
             "ticks": ""
            },
            "colorscale": [
             [
              0,
              "#0d0887"
             ],
             [
              0.1111111111111111,
              "#46039f"
             ],
             [
              0.2222222222222222,
              "#7201a8"
             ],
             [
              0.3333333333333333,
              "#9c179e"
             ],
             [
              0.4444444444444444,
              "#bd3786"
             ],
             [
              0.5555555555555556,
              "#d8576b"
             ],
             [
              0.6666666666666666,
              "#ed7953"
             ],
             [
              0.7777777777777778,
              "#fb9f3a"
             ],
             [
              0.8888888888888888,
              "#fdca26"
             ],
             [
              1,
              "#f0f921"
             ]
            ],
            "type": "histogram2d"
           }
          ],
          "histogram2dcontour": [
           {
            "colorbar": {
             "outlinewidth": 0,
             "ticks": ""
            },
            "colorscale": [
             [
              0,
              "#0d0887"
             ],
             [
              0.1111111111111111,
              "#46039f"
             ],
             [
              0.2222222222222222,
              "#7201a8"
             ],
             [
              0.3333333333333333,
              "#9c179e"
             ],
             [
              0.4444444444444444,
              "#bd3786"
             ],
             [
              0.5555555555555556,
              "#d8576b"
             ],
             [
              0.6666666666666666,
              "#ed7953"
             ],
             [
              0.7777777777777778,
              "#fb9f3a"
             ],
             [
              0.8888888888888888,
              "#fdca26"
             ],
             [
              1,
              "#f0f921"
             ]
            ],
            "type": "histogram2dcontour"
           }
          ],
          "mesh3d": [
           {
            "colorbar": {
             "outlinewidth": 0,
             "ticks": ""
            },
            "type": "mesh3d"
           }
          ],
          "parcoords": [
           {
            "line": {
             "colorbar": {
              "outlinewidth": 0,
              "ticks": ""
             }
            },
            "type": "parcoords"
           }
          ],
          "pie": [
           {
            "automargin": true,
            "type": "pie"
           }
          ],
          "scatter": [
           {
            "fillpattern": {
             "fillmode": "overlay",
             "size": 10,
             "solidity": 0.2
            },
            "type": "scatter"
           }
          ],
          "scatter3d": [
           {
            "line": {
             "colorbar": {
              "outlinewidth": 0,
              "ticks": ""
             }
            },
            "marker": {
             "colorbar": {
              "outlinewidth": 0,
              "ticks": ""
             }
            },
            "type": "scatter3d"
           }
          ],
          "scattercarpet": [
           {
            "marker": {
             "colorbar": {
              "outlinewidth": 0,
              "ticks": ""
             }
            },
            "type": "scattercarpet"
           }
          ],
          "scattergeo": [
           {
            "marker": {
             "colorbar": {
              "outlinewidth": 0,
              "ticks": ""
             }
            },
            "type": "scattergeo"
           }
          ],
          "scattergl": [
           {
            "marker": {
             "colorbar": {
              "outlinewidth": 0,
              "ticks": ""
             }
            },
            "type": "scattergl"
           }
          ],
          "scattermapbox": [
           {
            "marker": {
             "colorbar": {
              "outlinewidth": 0,
              "ticks": ""
             }
            },
            "type": "scattermapbox"
           }
          ],
          "scatterpolar": [
           {
            "marker": {
             "colorbar": {
              "outlinewidth": 0,
              "ticks": ""
             }
            },
            "type": "scatterpolar"
           }
          ],
          "scatterpolargl": [
           {
            "marker": {
             "colorbar": {
              "outlinewidth": 0,
              "ticks": ""
             }
            },
            "type": "scatterpolargl"
           }
          ],
          "scatterternary": [
           {
            "marker": {
             "colorbar": {
              "outlinewidth": 0,
              "ticks": ""
             }
            },
            "type": "scatterternary"
           }
          ],
          "surface": [
           {
            "colorbar": {
             "outlinewidth": 0,
             "ticks": ""
            },
            "colorscale": [
             [
              0,
              "#0d0887"
             ],
             [
              0.1111111111111111,
              "#46039f"
             ],
             [
              0.2222222222222222,
              "#7201a8"
             ],
             [
              0.3333333333333333,
              "#9c179e"
             ],
             [
              0.4444444444444444,
              "#bd3786"
             ],
             [
              0.5555555555555556,
              "#d8576b"
             ],
             [
              0.6666666666666666,
              "#ed7953"
             ],
             [
              0.7777777777777778,
              "#fb9f3a"
             ],
             [
              0.8888888888888888,
              "#fdca26"
             ],
             [
              1,
              "#f0f921"
             ]
            ],
            "type": "surface"
           }
          ],
          "table": [
           {
            "cells": {
             "fill": {
              "color": "#EBF0F8"
             },
             "line": {
              "color": "white"
             }
            },
            "header": {
             "fill": {
              "color": "#C8D4E3"
             },
             "line": {
              "color": "white"
             }
            },
            "type": "table"
           }
          ]
         },
         "layout": {
          "annotationdefaults": {
           "arrowcolor": "#2a3f5f",
           "arrowhead": 0,
           "arrowwidth": 1
          },
          "autotypenumbers": "strict",
          "coloraxis": {
           "colorbar": {
            "outlinewidth": 0,
            "ticks": ""
           }
          },
          "colorscale": {
           "diverging": [
            [
             0,
             "#8e0152"
            ],
            [
             0.1,
             "#c51b7d"
            ],
            [
             0.2,
             "#de77ae"
            ],
            [
             0.3,
             "#f1b6da"
            ],
            [
             0.4,
             "#fde0ef"
            ],
            [
             0.5,
             "#f7f7f7"
            ],
            [
             0.6,
             "#e6f5d0"
            ],
            [
             0.7,
             "#b8e186"
            ],
            [
             0.8,
             "#7fbc41"
            ],
            [
             0.9,
             "#4d9221"
            ],
            [
             1,
             "#276419"
            ]
           ],
           "sequential": [
            [
             0,
             "#0d0887"
            ],
            [
             0.1111111111111111,
             "#46039f"
            ],
            [
             0.2222222222222222,
             "#7201a8"
            ],
            [
             0.3333333333333333,
             "#9c179e"
            ],
            [
             0.4444444444444444,
             "#bd3786"
            ],
            [
             0.5555555555555556,
             "#d8576b"
            ],
            [
             0.6666666666666666,
             "#ed7953"
            ],
            [
             0.7777777777777778,
             "#fb9f3a"
            ],
            [
             0.8888888888888888,
             "#fdca26"
            ],
            [
             1,
             "#f0f921"
            ]
           ],
           "sequentialminus": [
            [
             0,
             "#0d0887"
            ],
            [
             0.1111111111111111,
             "#46039f"
            ],
            [
             0.2222222222222222,
             "#7201a8"
            ],
            [
             0.3333333333333333,
             "#9c179e"
            ],
            [
             0.4444444444444444,
             "#bd3786"
            ],
            [
             0.5555555555555556,
             "#d8576b"
            ],
            [
             0.6666666666666666,
             "#ed7953"
            ],
            [
             0.7777777777777778,
             "#fb9f3a"
            ],
            [
             0.8888888888888888,
             "#fdca26"
            ],
            [
             1,
             "#f0f921"
            ]
           ]
          },
          "colorway": [
           "#636efa",
           "#EF553B",
           "#00cc96",
           "#ab63fa",
           "#FFA15A",
           "#19d3f3",
           "#FF6692",
           "#B6E880",
           "#FF97FF",
           "#FECB52"
          ],
          "font": {
           "color": "#2a3f5f"
          },
          "geo": {
           "bgcolor": "white",
           "lakecolor": "white",
           "landcolor": "#E5ECF6",
           "showlakes": true,
           "showland": true,
           "subunitcolor": "white"
          },
          "hoverlabel": {
           "align": "left"
          },
          "hovermode": "closest",
          "mapbox": {
           "style": "light"
          },
          "paper_bgcolor": "white",
          "plot_bgcolor": "#E5ECF6",
          "polar": {
           "angularaxis": {
            "gridcolor": "white",
            "linecolor": "white",
            "ticks": ""
           },
           "bgcolor": "#E5ECF6",
           "radialaxis": {
            "gridcolor": "white",
            "linecolor": "white",
            "ticks": ""
           }
          },
          "scene": {
           "xaxis": {
            "backgroundcolor": "#E5ECF6",
            "gridcolor": "white",
            "gridwidth": 2,
            "linecolor": "white",
            "showbackground": true,
            "ticks": "",
            "zerolinecolor": "white"
           },
           "yaxis": {
            "backgroundcolor": "#E5ECF6",
            "gridcolor": "white",
            "gridwidth": 2,
            "linecolor": "white",
            "showbackground": true,
            "ticks": "",
            "zerolinecolor": "white"
           },
           "zaxis": {
            "backgroundcolor": "#E5ECF6",
            "gridcolor": "white",
            "gridwidth": 2,
            "linecolor": "white",
            "showbackground": true,
            "ticks": "",
            "zerolinecolor": "white"
           }
          },
          "shapedefaults": {
           "line": {
            "color": "#2a3f5f"
           }
          },
          "ternary": {
           "aaxis": {
            "gridcolor": "white",
            "linecolor": "white",
            "ticks": ""
           },
           "baxis": {
            "gridcolor": "white",
            "linecolor": "white",
            "ticks": ""
           },
           "bgcolor": "#E5ECF6",
           "caxis": {
            "gridcolor": "white",
            "linecolor": "white",
            "ticks": ""
           }
          },
          "title": {
           "x": 0.05
          },
          "xaxis": {
           "automargin": true,
           "gridcolor": "white",
           "linecolor": "white",
           "ticks": "",
           "title": {
            "standoff": 15
           },
           "zerolinecolor": "white",
           "zerolinewidth": 2
          },
          "yaxis": {
           "automargin": true,
           "gridcolor": "white",
           "linecolor": "white",
           "ticks": "",
           "title": {
            "standoff": 15
           },
           "zerolinecolor": "white",
           "zerolinewidth": 2
          }
         }
        },
        "title": {
         "text": "Library Usage Overview (2x2 Layout, with Dropdown Details)"
        },
        "width": 1100,
        "xaxis": {
         "anchor": "y",
         "autorange": true,
         "domain": [
          0,
          0.45
         ],
         "range": [
          -0.5,
          8.5
         ],
         "tickangle": 30,
         "type": "category"
        },
        "xaxis2": {
         "anchor": "y2",
         "autorange": true,
         "domain": [
          0,
          0.45
         ],
         "range": [
          -0.5,
          8.5
         ],
         "tickangle": 30,
         "type": "category"
        },
        "yaxis": {
         "anchor": "x",
         "autorange": true,
         "domain": [
          0.625,
          1
         ],
         "range": [
          0,
          114.73684210526315
         ],
         "type": "linear"
        },
        "yaxis2": {
         "anchor": "x2",
         "autorange": true,
         "domain": [
          0,
          0.375
         ],
         "range": [
          0,
          78.94736842105263
         ],
         "type": "linear"
        }
       }
      },
      "image/png": "[encoded data removed]",
      "text/html": [
       "<div>                            <div id=\"affba32f-125c-411f-a729-5658f9c03a3a\" class=\"plotly-graph-div\" style=\"height:800px; width:1100px;\"></div>            <script type=\"text/javascript\">                require([\"plotly\"], function(Plotly) {                    window.PLOTLYENV=window.PLOTLYENV || {};                                    if (document.getElementById(\"affba32f-125c-411f-a729-5658f9c03a3a\")) {                    Plotly.newPlot(                        \"affba32f-125c-411f-a729-5658f9c03a3a\",                        [{\"marker\":{\"color\":\"#D98880\"},\"name\":\"Visitors\",\"text\":[22.0,54.0,75.0,29.0,49.0,85.0,82.0,109.0,82.0],\"textposition\":\"auto\",\"x\":[\"1F - Main Hall\",\"1F - Study Area 100-112\",\"1F - The Cube\",\"1F - Learning Lab\",\"2F - Study Area 200-214\",\"2F - Writing Center\",\"2F - Center for Teaching & Learning\",\"2F - Learning Lab\",\"2F - Multifaith Meditation Room\"],\"y\":[22,54,75,29,49,85,82,109,82],\"type\":\"bar\",\"xaxis\":\"x\",\"yaxis\":\"y\"},{\"hole\":0.3,\"labels\":[\"1F - Main Hall\",\"1F - Study Area 100-112\",\"1F - The Cube\",\"1F - Learning Lab\",\"2F - Study Area 200-214\",\"2F - Writing Center\",\"2F - Center for Teaching & Learning\",\"2F - Learning Lab\",\"2F - Multifaith Meditation Room\"],\"marker\":{\"colors\":[\"#D98880\",\"#E59866\",\"#F7DC6F\",\"#D7BDE2\",\"#F5B7B1\",\"#FAD7A0\",\"#F9E79F\",\"#FADBD8\",\"#EDBB99\"]},\"name\":\"Utilization\",\"values\":[8.8,36.0,72.5,56.7,25.0,100.0,100.0,100.0,100.0],\"type\":\"pie\",\"domain\":{\"x\":[0.55,1.0],\"y\":[0.625,1.0]}},{\"marker\":{\"color\":\"#D7BDE2\"},\"name\":\"Available Seats\",\"text\":[73.0,64.0,11.0,13.0,75.0,0.0,0.0,0.0,0.0],\"textposition\":\"auto\",\"x\":[\"1F - Main Hall\",\"1F - Study Area 100-112\",\"1F - The Cube\",\"1F - Learning Lab\",\"2F - Study Area 200-214\",\"2F - Writing Center\",\"2F - Center for Teaching & Learning\",\"2F - Learning Lab\",\"2F - Multifaith Meditation Room\"],\"y\":[73,64,11,13,75,0,0,0,0],\"type\":\"bar\",\"xaxis\":\"x2\",\"yaxis\":\"y2\"},{\"cells\":{\"align\":\"left\",\"fill\":{\"color\":[[\"#F9EBEA\",\"#F9EBEA\",\"#F9EBEA\",\"#F9EBEA\",\"#F9EBEA\"],[\"#F9EBEA\",\"#F9EBEA\",\"#F9EBEA\",\"#F9EBEA\",\"#F9EBEA\"],[\"#F9EBEA\",\"#F9EBEA\",\"#F9EBEA\",\"#F9EBEA\",\"#F9EBEA\"]]},\"font\":{\"size\":11},\"values\":[[\"2025-03-03\",\"2025-03-07\",\"2025-03-15\",\"2025-03-24\",\"2025-03-29\"],[\"Mon\",\"Fri\",\"Sat\",\"Mon\",\"Sat\"],[\"\\ud83c\\udfa8 Art Exhibit\",\"\\ud83c\\udfa8 Art Exhibit\",\"\\ud83d\\udcda Book Club\",\"\\ud83c\\udfa8 Art Exhibit\",\"\\ud83d\\udcda Book Club\"]]},\"header\":{\"align\":\"left\",\"fill\":{\"color\":\"#F7DC6F\"},\"font\":{\"color\":\"black\",\"size\":12},\"values\":[\"Date\",\"Day\",\"Event\"]},\"type\":\"table\",\"domain\":{\"x\":[0.55,1.0],\"y\":[0.0,0.375]}}],                        {\"template\":{\"data\":{\"histogram2dcontour\":[{\"type\":\"histogram2dcontour\",\"colorbar\":{\"outlinewidth\":0,\"ticks\":\"\"},\"colorscale\":[[0.0,\"#0d0887\"],[0.1111111111111111,\"#46039f\"],[0.2222222222222222,\"#7201a8\"],[0.3333333333333333,\"#9c179e\"],[0.4444444444444444,\"#bd3786\"],[0.5555555555555556,\"#d8576b\"],[0.6666666666666666,\"#ed7953\"],[0.7777777777777778,\"#fb9f3a\"],[0.8888888888888888,\"#fdca26\"],[1.0,\"#f0f921\"]]}],\"choropleth\":[{\"type\":\"choropleth\",\"colorbar\":{\"outlinewidth\":0,\"ticks\":\"\"}}],\"histogram2d\":[{\"type\":\"histogram2d\",\"colorbar\":{\"outlinewidth\":0,\"ticks\":\"\"},\"colorscale\":[[0.0,\"#0d0887\"],[0.1111111111111111,\"#46039f\"],[0.2222222222222222,\"#7201a8\"],[0.3333333333333333,\"#9c179e\"],[0.4444444444444444,\"#bd3786\"],[0.5555555555555556,\"#d8576b\"],[0.6666666666666666,\"#ed7953\"],[0.7777777777777778,\"#fb9f3a\"],[0.8888888888888888,\"#fdca26\"],[1.0,\"#f0f921\"]]}],\"heatmap\":[{\"type\":\"heatmap\",\"colorbar\":{\"outlinewidth\":0,\"ticks\":\"\"},\"colorscale\":[[0.0,\"#0d0887\"],[0.1111111111111111,\"#46039f\"],[0.2222222222222222,\"#7201a8\"],[0.3333333333333333,\"#9c179e\"],[0.4444444444444444,\"#bd3786\"],[0.5555555555555556,\"#d8576b\"],[0.6666666666666666,\"#ed7953\"],[0.7777777777777778,\"#fb9f3a\"],[0.8888888888888888,\"#fdca26\"],[1.0,\"#f0f921\"]]}],\"heatmapgl\":[{\"type\":\"heatmapgl\",\"colorbar\":{\"outlinewidth\":0,\"ticks\":\"\"},\"colorscale\":[[0.0,\"#0d0887\"],[0.1111111111111111,\"#46039f\"],[0.2222222222222222,\"#7201a8\"],[0.3333333333333333,\"#9c179e\"],[0.4444444444444444,\"#bd3786\"],[0.5555555555555556,\"#d8576b\"],[0.6666666666666666,\"#ed7953\"],[0.7777777777777778,\"#fb9f3a\"],[0.8888888888888888,\"#fdca26\"],[1.0,\"#f0f921\"]]}],\"contourcarpet\":[{\"type\":\"contourcarpet\",\"colorbar\":{\"outlinewidth\":0,\"ticks\":\"\"}}],\"contour\":[{\"type\":\"contour\",\"colorbar\":{\"outlinewidth\":0,\"ticks\":\"\"},\"colorscale\":[[0.0,\"#0d0887\"],[0.1111111111111111,\"#46039f\"],[0.2222222222222222,\"#7201a8\"],[0.3333333333333333,\"#9c179e\"],[0.4444444444444444,\"#bd3786\"],[0.5555555555555556,\"#d8576b\"],[0.6666666666666666,\"#ed7953\"],[0.7777777777777778,\"#fb9f3a\"],[0.8888888888888888,\"#fdca26\"],[1.0,\"#f0f921\"]]}],\"surface\":[{\"type\":\"surface\",\"colorbar\":{\"outlinewidth\":0,\"ticks\":\"\"},\"colorscale\":[[0.0,\"#0d0887\"],[0.1111111111111111,\"#46039f\"],[0.2222222222222222,\"#7201a8\"],[0.3333333333333333,\"#9c179e\"],[0.4444444444444444,\"#bd3786\"],[0.5555555555555556,\"#d8576b\"],[0.6666666666666666,\"#ed7953\"],[0.7777777777777778,\"#fb9f3a\"],[0.8888888888888888,\"#fdca26\"],[1.0,\"#f0f921\"]]}],\"mesh3d\":[{\"type\":\"mesh3d\",\"colorbar\":{\"outlinewidth\":0,\"ticks\":\"\"}}],\"scatter\":[{\"fillpattern\":{\"fillmode\":\"overlay\",\"size\":10,\"solidity\":0.2},\"type\":\"scatter\"}],\"parcoords\":[{\"type\":\"parcoords\",\"line\":{\"colorbar\":{\"outlinewidth\":0,\"ticks\":\"\"}}}],\"scatterpolargl\":[{\"type\":\"scatterpolargl\",\"marker\":{\"colorbar\":{\"outlinewidth\":0,\"ticks\":\"\"}}}],\"bar\":[{\"error_x\":{\"color\":\"#2a3f5f\"},\"error_y\":{\"color\":\"#2a3f5f\"},\"marker\":{\"line\":{\"color\":\"#E5ECF6\",\"width\":0.5},\"pattern\":{\"fillmode\":\"overlay\",\"size\":10,\"solidity\":0.2}},\"type\":\"bar\"}],\"scattergeo\":[{\"type\":\"scattergeo\",\"marker\":{\"colorbar\":{\"outlinewidth\":0,\"ticks\":\"\"}}}],\"scatterpolar\":[{\"type\":\"scatterpolar\",\"marker\":{\"colorbar\":{\"outlinewidth\":0,\"ticks\":\"\"}}}],\"histogram\":[{\"marker\":{\"pattern\":{\"fillmode\":\"overlay\",\"size\":10,\"solidity\":0.2}},\"type\":\"histogram\"}],\"scattergl\":[{\"type\":\"scattergl\",\"marker\":{\"colorbar\":{\"outlinewidth\":0,\"ticks\":\"\"}}}],\"scatter3d\":[{\"type\":\"scatter3d\",\"line\":{\"colorbar\":{\"outlinewidth\":0,\"ticks\":\"\"}},\"marker\":{\"colorbar\":{\"outlinewidth\":0,\"ticks\":\"\"}}}],\"scattermapbox\":[{\"type\":\"scattermapbox\",\"marker\":{\"colorbar\":{\"outlinewidth\":0,\"ticks\":\"\"}}}],\"scatterternary\":[{\"type\":\"scatterternary\",\"marker\":{\"colorbar\":{\"outlinewidth\":0,\"ticks\":\"\"}}}],\"scattercarpet\":[{\"type\":\"scattercarpet\",\"marker\":{\"colorbar\":{\"outlinewidth\":0,\"ticks\":\"\"}}}],\"carpet\":[{\"aaxis\":{\"endlinecolor\":\"#2a3f5f\",\"gridcolor\":\"white\",\"linecolor\":\"white\",\"minorgridcolor\":\"white\",\"startlinecolor\":\"#2a3f5f\"},\"baxis\":{\"endlinecolor\":\"#2a3f5f\",\"gridcolor\":\"white\",\"linecolor\":\"white\",\"minorgridcolor\":\"white\",\"startlinecolor\":\"#2a3f5f\"},\"type\":\"carpet\"}],\"table\":[{\"cells\":{\"fill\":{\"color\":\"#EBF0F8\"},\"line\":{\"color\":\"white\"}},\"header\":{\"fill\":{\"color\":\"#C8D4E3\"},\"line\":{\"color\":\"white\"}},\"type\":\"table\"}],\"barpolar\":[{\"marker\":{\"line\":{\"color\":\"#E5ECF6\",\"width\":0.5},\"pattern\":{\"fillmode\":\"overlay\",\"size\":10,\"solidity\":0.2}},\"type\":\"barpolar\"}],\"pie\":[{\"automargin\":true,\"type\":\"pie\"}]},\"layout\":{\"autotypenumbers\":\"strict\",\"colorway\":[\"#636efa\",\"#EF553B\",\"#00cc96\",\"#ab63fa\",\"#FFA15A\",\"#19d3f3\",\"#FF6692\",\"#B6E880\",\"#FF97FF\",\"#FECB52\"],\"font\":{\"color\":\"#2a3f5f\"},\"hovermode\":\"closest\",\"hoverlabel\":{\"align\":\"left\"},\"paper_bgcolor\":\"white\",\"plot_bgcolor\":\"#E5ECF6\",\"polar\":{\"bgcolor\":\"#E5ECF6\",\"angularaxis\":{\"gridcolor\":\"white\",\"linecolor\":\"white\",\"ticks\":\"\"},\"radialaxis\":{\"gridcolor\":\"white\",\"linecolor\":\"white\",\"ticks\":\"\"}},\"ternary\":{\"bgcolor\":\"#E5ECF6\",\"aaxis\":{\"gridcolor\":\"white\",\"linecolor\":\"white\",\"ticks\":\"\"},\"baxis\":{\"gridcolor\":\"white\",\"linecolor\":\"white\",\"ticks\":\"\"},\"caxis\":{\"gridcolor\":\"white\",\"linecolor\":\"white\",\"ticks\":\"\"}},\"coloraxis\":{\"colorbar\":{\"outlinewidth\":0,\"ticks\":\"\"}},\"colorscale\":{\"sequential\":[[0.0,\"#0d0887\"],[0.1111111111111111,\"#46039f\"],[0.2222222222222222,\"#7201a8\"],[0.3333333333333333,\"#9c179e\"],[0.4444444444444444,\"#bd3786\"],[0.5555555555555556,\"#d8576b\"],[0.6666666666666666,\"#ed7953\"],[0.7777777777777778,\"#fb9f3a\"],[0.8888888888888888,\"#fdca26\"],[1.0,\"#f0f921\"]],\"sequentialminus\":[[0.0,\"#0d0887\"],[0.1111111111111111,\"#46039f\"],[0.2222222222222222,\"#7201a8\"],[0.3333333333333333,\"#9c179e\"],[0.4444444444444444,\"#bd3786\"],[0.5555555555555556,\"#d8576b\"],[0.6666666666666666,\"#ed7953\"],[0.7777777777777778,\"#fb9f3a\"],[0.8888888888888888,\"#fdca26\"],[1.0,\"#f0f921\"]],\"diverging\":[[0,\"#8e0152\"],[0.1,\"#c51b7d\"],[0.2,\"#de77ae\"],[0.3,\"#f1b6da\"],[0.4,\"#fde0ef\"],[0.5,\"#f7f7f7\"],[0.6,\"#e6f5d0\"],[0.7,\"#b8e186\"],[0.8,\"#7fbc41\"],[0.9,\"#4d9221\"],[1,\"#276419\"]]},\"xaxis\":{\"gridcolor\":\"white\",\"linecolor\":\"white\",\"ticks\":\"\",\"title\":{\"standoff\":15},\"zerolinecolor\":\"white\",\"automargin\":true,\"zerolinewidth\":2},\"yaxis\":{\"gridcolor\":\"white\",\"linecolor\":\"white\",\"ticks\":\"\",\"title\":{\"standoff\":15},\"zerolinecolor\":\"white\",\"automargin\":true,\"zerolinewidth\":2},\"scene\":{\"xaxis\":{\"backgroundcolor\":\"#E5ECF6\",\"gridcolor\":\"white\",\"linecolor\":\"white\",\"showbackground\":true,\"ticks\":\"\",\"zerolinecolor\":\"white\",\"gridwidth\":2},\"yaxis\":{\"backgroundcolor\":\"#E5ECF6\",\"gridcolor\":\"white\",\"linecolor\":\"white\",\"showbackground\":true,\"ticks\":\"\",\"zerolinecolor\":\"white\",\"gridwidth\":2},\"zaxis\":{\"backgroundcolor\":\"#E5ECF6\",\"gridcolor\":\"white\",\"linecolor\":\"white\",\"showbackground\":true,\"ticks\":\"\",\"zerolinecolor\":\"white\",\"gridwidth\":2}},\"shapedefaults\":{\"line\":{\"color\":\"#2a3f5f\"}},\"annotationdefaults\":{\"arrowcolor\":\"#2a3f5f\",\"arrowhead\":0,\"arrowwidth\":1},\"geo\":{\"bgcolor\":\"white\",\"landcolor\":\"#E5ECF6\",\"subunitcolor\":\"white\",\"showland\":true,\"showlakes\":true,\"lakecolor\":\"white\"},\"title\":{\"x\":0.05},\"mapbox\":{\"style\":\"light\"}}},\"xaxis\":{\"anchor\":\"y\",\"domain\":[0.0,0.45],\"tickangle\":30},\"yaxis\":{\"anchor\":\"x\",\"domain\":[0.625,1.0]},\"xaxis2\":{\"anchor\":\"y2\",\"domain\":[0.0,0.45],\"tickangle\":30},\"yaxis2\":{\"anchor\":\"x2\",\"domain\":[0.0,0.375]},\"annotations\":[{\"font\":{\"size\":16},\"showarrow\":false,\"text\":\"Visitors per Zone\",\"x\":0.225,\"xanchor\":\"center\",\"xref\":\"paper\",\"y\":1.0,\"yanchor\":\"bottom\",\"yref\":\"paper\"},{\"font\":{\"size\":16},\"showarrow\":false,\"text\":\"Seat Utilization by Zone\",\"x\":0.775,\"xanchor\":\"center\",\"xref\":\"paper\",\"y\":1.0,\"yanchor\":\"bottom\",\"yref\":\"paper\"},{\"font\":{\"size\":16},\"showarrow\":false,\"text\":\"Available Seats per Zone\",\"x\":0.225,\"xanchor\":\"center\",\"xref\":\"paper\",\"y\":0.375,\"yanchor\":\"bottom\",\"yref\":\"paper\"},{\"font\":{\"size\":16},\"showarrow\":false,\"text\":\"Library Events Calendar\",\"x\":0.775,\"xanchor\":\"center\",\"xref\":\"paper\",\"y\":0.375,\"yanchor\":\"bottom\",\"yref\":\"paper\"}],\"title\":{\"text\":\"Library Usage Overview (2x2 Layout, with Dropdown Details)\"},\"margin\":{\"t\":60,\"b\":40,\"l\":30,\"r\":30},\"font\":{\"family\":\"Segoe UI\",\"size\":13},\"height\":800,\"width\":1100,\"showlegend\":false},                        {\"responsive\": true}                    ).then(function(){\n",
       "                            \n",
       "var gd = document.getElementById('affba32f-125c-411f-a729-5658f9c03a3a');\n",
       "var x = new MutationObserver(function (mutations, observer) {{\n",
       "        var display = window.getComputedStyle(gd).display;\n",
       "        if (!display || display === 'none') {{\n",
       "            console.log([gd, 'removed!']);\n",
       "            Plotly.purge(gd);\n",
       "            observer.disconnect();\n",
       "        }}\n",
       "}});\n",
       "\n",
       "// Listen for the removal of the full notebook cells\n",
       "var notebookContainer = gd.closest('#notebook-container');\n",
       "if (notebookContainer) {{\n",
       "    x.observe(notebookContainer, {childList: true});\n",
       "}}\n",
       "\n",
       "// Listen for the clearing of the current output cell\n",
       "var outputEl = gd.closest('.output');\n",
       "if (outputEl) {{\n",
       "    x.observe(outputEl, {childList: true});\n",
       "}}\n",
       "\n",
       "                        })                };                });            </script>        </div>"
      ]
     },
     "metadata": {},
     "output_type": "display_data"
    },
    {
     "data": {
      "application/vnd.jupyter.widget-view+json": {
       "model_id": "2f5d161558bc49dd807a76e50ea54ceb",
       "version_major": 2,
       "version_minor": 0
      },
      "text/plain": [
       "VBox(children=(Dropdown(description='Select Zone:', layout=Layout(height='40px', padding='0px 0px 0px 10px', w…"
      ]
     },
     "metadata": {},
     "output_type": "display_data"
    }
   ],
   "source": [
    "# 📊 UOP Library Dashboard (Clean Version)\n",
    "\n",
    "import pandas as pd\n",
    "import plotly.graph_objects as go\n",
    "from plotly.subplots import make_subplots\n",
    "import ipywidgets as widgets\n",
    "from IPython.display import display, Markdown, HTML\n",
    "import random\n",
    "from datetime import datetime, timedelta\n",
    "from ipywidgets import VBox, Layout\n",
    "\n",
    "# Define library zones\n",
    "areas = [\n",
    "    '1F - Main Hall', '1F - Study Area 100-112', '1F - The Cube', '1F - Learning Lab',\n",
    "    '2F - Study Area 200-214', '2F - Writing Center', '2F - Center for Teaching & Learning',\n",
    "    '2F - Learning Lab', '2F - Multifaith Meditation Room'\n",
    "]\n",
    "\n",
    "# Simulate data\n",
    "today = datetime.now().strftime('%Y-%m-%d')\n",
    "data = {\n",
    "    'Date': [today] * len(areas),\n",
    "    'Zone': areas,\n",
    "    'Visitors': [random.randint(20, 120) for _ in areas],\n",
    "    'Total Seats': [80, 100, 40, 30, 100, 20, 25, 30, 15]\n",
    "}\n",
    "\n",
    "df = pd.DataFrame(data)\n",
    "df['Available Seats'] = df['Total Seats'] - df['Visitors'].apply(lambda x: int(x * random.uniform(0.3, 0.7)))\n",
    "df['Available Seats'] = df['Available Seats'].apply(lambda x: max(x, 0))\n",
    "df['Utilization (%)'] = ((df['Total Seats'] - df['Available Seats']) / df['Total Seats'] * 100).round(1)\n",
    "\n",
    "total_visits = df['Visitors'].sum()\n",
    "\n",
    "# Title display\n",
    "title_html = f\"\"\"\n",
    "<h1 style='color:#D35400; font-family:Georgia; font-size:38px;'>📊 UOP Library Dashboard</h1>\n",
    "<h3 style='color:#884EA0;'>📅 Date: {today}</h3>\n",
    "<h3 style='color:#2471A3;'>👥 Total Visitors Today: {total_visits}</h3>\n",
    "\"\"\"\n",
    "display(HTML(title_html))\n",
    "\n",
    "# Warm palette\n",
    "warm_palette = ['#D98880', '#E59866', '#F7DC6F', '#D7BDE2', '#F5B7B1', '#FAD7A0', '#F9E79F', '#FADBD8', '#EDBB99']\n",
    "\n",
    "# Dashboard intro text\n",
    "display(Markdown(\"\"\"\n",
    "### 📈 Dashboard Charts Explained:\n",
    "- **Chart 1:** Visitors per Zone\n",
    "- **Chart 2:** Seat Utilization\n",
    "- **Chart 3:** Available Seats\n",
    "- **Chart 4:** Calendar – library events (past 30 days)\n",
    "\"\"\"))\n",
    "\n",
    "# Create 2x2 layout with calendar table\n",
    "fig = make_subplots(\n",
    "    rows=2, cols=2,\n",
    "    specs=[[{\"type\": \"xy\"}, {\"type\": \"domain\"}],\n",
    "           [{\"type\": \"xy\"}, {\"type\": \"table\"}]],\n",
    "    subplot_titles=(\"Visitors per Zone\", \"Seat Utilization by Zone\", \"Available Seats per Zone\", \"Library Events Calendar\")\n",
    ")\n",
    "\n",
    "fig.add_trace(go.Bar(\n",
    "    x=df['Zone'], y=df['Visitors'], name='Visitors',\n",
    "    marker_color=warm_palette[0], text=df['Visitors'], textposition='auto'\n",
    "), row=1, col=1)\n",
    "\n",
    "fig.add_trace(go.Pie(\n",
    "    labels=df['Zone'], values=df['Utilization (%)'], name='Utilization', hole=0.3,\n",
    "    marker=dict(colors=warm_palette)\n",
    "), row=1, col=2)\n",
    "\n",
    "fig.add_trace(go.Bar(\n",
    "    x=df['Zone'], y=df['Available Seats'], name='Available Seats',\n",
    "    marker_color=warm_palette[3], text=df['Available Seats'], textposition='auto'\n",
    "), row=2, col=1)\n",
    "\n",
    "# Events table chart (only active days)\n",
    "calendar_dates = [datetime.now() - timedelta(days=i) for i in range(29, -1, -1)]\n",
    "events = [\"\" for _ in range(30)]\n",
    "for i in random.sample(range(30), 5):\n",
    "    events[i] = random.choice([\"📚 Book Club\", \"🧘 Meditation Hour\", \"💻 Coding Workshop\", \"🎨 Art Exhibit\"])\n",
    "\n",
    "calendar_df = pd.DataFrame({\n",
    "    'Date': [d.strftime(\"%Y-%m-%d\") for d in calendar_dates],\n",
    "    'Weekday': [d.strftime(\"%a\") for d in calendar_dates],\n",
    "    'Event': events\n",
    "})\n",
    "calendar_df = calendar_df[calendar_df['Event'] != \"\"]\n",
    "\n",
    "fig.add_trace(go.Table(\n",
    "    header=dict(values=[\"Date\", \"Day\", \"Event\"], fill_color=\"#F7DC6F\", font=dict(color=\"black\", size=12), align=\"left\"),\n",
    "    cells=dict(\n",
    "        values=[calendar_df['Date'], calendar_df['Weekday'], calendar_df['Event']],\n",
    "        fill_color=[[\"#F9EBEA\"]*len(calendar_df)]*3,\n",
    "        align=\"left\", font=dict(size=11)\n",
    "    )\n",
    "), row=2, col=2)\n",
    "\n",
    "fig.update_layout(\n",
    "    height=800, width=1100, showlegend=False,\n",
    "    title_text=\"Library Usage Overview (2x2 Layout, with Dropdown Details)\",\n",
    "    margin=dict(t=60, b=40, l=30, r=30),\n",
    "    font=dict(family=\"Segoe UI\", size=13)\n",
    ")\n",
    "fig.update_xaxes(tickangle=30)\n",
    "fig.show()\n",
    "\n",
    "# Interactive Dropdown for zone detail\n",
    "dropdown = widgets.Dropdown(\n",
    "    options=areas,\n",
    "    description=\"Select Zone:\",\n",
    "    layout=Layout(width='60%', padding='0px 0px 0px 10px', height='40px'),\n",
    "    style={'description_width': 'initial'}\n",
    ")\n",
    "\n",
    "output = widgets.Output(layout=Layout(border='1px solid #ccc', padding='10px', width='60%'))\n",
    "\n",
    "def show_area_detail(selected_area):\n",
    "    area_data = df[df['Zone'] == selected_area].iloc[0]\n",
    "    with output:\n",
    "        output.clear_output()\n",
    "        display(Markdown(f\"\"\"\n",
    "### 📍 Zone: {selected_area}\n",
    "- 👥 Current Visitors: **{area_data['Visitors']}**\n",
    "- 🪑 Total Seats: **{area_data['Total Seats']}**\n",
    "- ✅ Available Seats: **{area_data['Available Seats']}**\n",
    "- 🔁 Utilization Rate: **{area_data['Utilization (%)']}%**\n",
    "\"\"\"))\n",
    "\n",
    "widgets.interactive(show_area_detail, selected_area=dropdown)\n",
    "display(VBox([dropdown, output], layout=Layout(align_items='flex-start')))"
   ]
  },
  {
   "cell_type": "code",
   "execution_count": null,
   "id": "39fef6d1-73f4-4c0e-8a74-706bcf7a5a1e",
   "metadata": {},
   "outputs": [],
   "source": []
  }
 ],
 "metadata": {
  "kernelspec": {
   "display_name": "anaconda-2024.02-py310",
   "language": "python",
   "name": "conda-env-anaconda-2024.02-py310-py"
  },
  "language_info": {
   "codemirror_mode": {
    "name": "ipython",
    "version": 3
   },
   "file_extension": ".py",
   "mimetype": "text/x-python",
   "name": "python",
   "nbconvert_exporter": "python",
   "pygments_lexer": "ipython3",
   "version": "3.10.14"
  }
 },
 "nbformat": 4,
 "nbformat_minor": 5
}
