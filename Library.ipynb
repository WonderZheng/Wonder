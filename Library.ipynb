{
 "cells": [
  {
   "cell_type": "code",
   "execution_count": 2,
   "id": "60c1744b-8368-4e0b-96b1-e6939100d6a8",
   "metadata": {},
   "outputs": [
    {
     "name": "stdout",
     "output_type": "stream",
     "text": [
      "Defaulting to user installation because normal site-packages is not writeable\n",
      "Looking in links: /usr/share/pip-wheels\n",
      "Requirement already satisfied: pandas in /opt/conda/envs/anaconda-panel-2023.05-py310/lib/python3.11/site-packages (2.0.3)\n",
      "Requirement already satisfied: plotly in /opt/conda/envs/anaconda-panel-2023.05-py310/lib/python3.11/site-packages (5.9.0)\n",
      "Requirement already satisfied: ipywidgets in /opt/conda/envs/anaconda-panel-2023.05-py310/lib/python3.11/site-packages (8.0.4)\n",
      "Requirement already satisfied: voila in ./.local/lib/python3.11/site-packages (0.5.8)\n",
      "Requirement already satisfied: python-dateutil>=2.8.2 in /opt/conda/envs/anaconda-panel-2023.05-py310/lib/python3.11/site-packages (from pandas) (2.8.2)\n",
      "Requirement already satisfied: pytz>=2020.1 in /opt/conda/envs/anaconda-panel-2023.05-py310/lib/python3.11/site-packages (from pandas) (2023.3.post1)\n",
      "Requirement already satisfied: tzdata>=2022.1 in /opt/conda/envs/anaconda-panel-2023.05-py310/lib/python3.11/site-packages (from pandas) (2023.3)\n",
      "Requirement already satisfied: numpy>=1.21.0 in /opt/conda/envs/anaconda-panel-2023.05-py310/lib/python3.11/site-packages (from pandas) (1.24.3)\n",
      "Requirement already satisfied: tenacity>=6.2.0 in /opt/conda/envs/anaconda-panel-2023.05-py310/lib/python3.11/site-packages (from plotly) (8.2.2)\n",
      "Requirement already satisfied: ipykernel>=4.5.1 in /opt/conda/envs/anaconda-panel-2023.05-py310/lib/python3.11/site-packages (from ipywidgets) (6.25.0)\n",
      "Requirement already satisfied: ipython>=6.1.0 in /opt/conda/envs/anaconda-panel-2023.05-py310/lib/python3.11/site-packages (from ipywidgets) (8.15.0)\n",
      "Requirement already satisfied: traitlets>=4.3.1 in /opt/conda/envs/anaconda-panel-2023.05-py310/lib/python3.11/site-packages (from ipywidgets) (5.7.1)\n",
      "Requirement already satisfied: widgetsnbextension~=4.0 in /opt/conda/envs/anaconda-panel-2023.05-py310/lib/python3.11/site-packages (from ipywidgets) (4.0.5)\n",
      "Requirement already satisfied: jupyterlab-widgets~=3.0 in /opt/conda/envs/anaconda-panel-2023.05-py310/lib/python3.11/site-packages (from ipywidgets) (3.0.5)\n",
      "Requirement already satisfied: jupyter-client<9,>=7.4.4 in /opt/conda/envs/anaconda-panel-2023.05-py310/lib/python3.11/site-packages (from voila) (7.4.9)\n",
      "Requirement already satisfied: jupyter-core>=4.11.0 in /opt/conda/envs/anaconda-panel-2023.05-py310/lib/python3.11/site-packages (from voila) (5.3.0)\n",
      "Requirement already satisfied: jupyter-server<3,>=1.18 in /opt/conda/envs/anaconda-panel-2023.05-py310/lib/python3.11/site-packages (from voila) (1.23.4)\n",
      "Requirement already satisfied: jupyterlab-server<3,>=2.3.0 in /opt/conda/envs/anaconda-panel-2023.05-py310/lib/python3.11/site-packages (from voila) (2.22.0)\n",
      "Requirement already satisfied: nbclient>=0.4.0 in /opt/conda/envs/anaconda-panel-2023.05-py310/lib/python3.11/site-packages (from voila) (0.5.13)\n",
      "Requirement already satisfied: nbconvert<8,>=6.4.5 in /opt/conda/envs/anaconda-panel-2023.05-py310/lib/python3.11/site-packages (from voila) (6.5.4)\n",
      "Requirement already satisfied: websockets>=9.0 in ./.local/lib/python3.11/site-packages (from voila) (15.0.1)\n",
      "Requirement already satisfied: comm>=0.1.1 in /opt/conda/envs/anaconda-panel-2023.05-py310/lib/python3.11/site-packages (from ipykernel>=4.5.1->ipywidgets) (0.1.2)\n",
      "Requirement already satisfied: debugpy>=1.6.5 in /opt/conda/envs/anaconda-panel-2023.05-py310/lib/python3.11/site-packages (from ipykernel>=4.5.1->ipywidgets) (1.6.7)\n",
      "Requirement already satisfied: matplotlib-inline>=0.1 in /opt/conda/envs/anaconda-panel-2023.05-py310/lib/python3.11/site-packages (from ipykernel>=4.5.1->ipywidgets) (0.1.6)\n",
      "Requirement already satisfied: nest-asyncio in /opt/conda/envs/anaconda-panel-2023.05-py310/lib/python3.11/site-packages (from ipykernel>=4.5.1->ipywidgets) (1.5.6)\n",
      "Requirement already satisfied: packaging in /opt/conda/envs/anaconda-panel-2023.05-py310/lib/python3.11/site-packages (from ipykernel>=4.5.1->ipywidgets) (23.1)\n",
      "Requirement already satisfied: psutil in /opt/conda/envs/anaconda-panel-2023.05-py310/lib/python3.11/site-packages (from ipykernel>=4.5.1->ipywidgets) (5.9.0)\n",
      "Requirement already satisfied: pyzmq>=20 in /opt/conda/envs/anaconda-panel-2023.05-py310/lib/python3.11/site-packages (from ipykernel>=4.5.1->ipywidgets) (23.2.0)\n",
      "Requirement already satisfied: tornado>=6.1 in /opt/conda/envs/anaconda-panel-2023.05-py310/lib/python3.11/site-packages (from ipykernel>=4.5.1->ipywidgets) (6.3.2)\n",
      "Requirement already satisfied: backcall in /opt/conda/envs/anaconda-panel-2023.05-py310/lib/python3.11/site-packages (from ipython>=6.1.0->ipywidgets) (0.2.0)\n",
      "Requirement already satisfied: decorator in /opt/conda/envs/anaconda-panel-2023.05-py310/lib/python3.11/site-packages (from ipython>=6.1.0->ipywidgets) (5.1.1)\n",
      "Requirement already satisfied: jedi>=0.16 in /opt/conda/envs/anaconda-panel-2023.05-py310/lib/python3.11/site-packages (from ipython>=6.1.0->ipywidgets) (0.18.1)\n",
      "Requirement already satisfied: pickleshare in /opt/conda/envs/anaconda-panel-2023.05-py310/lib/python3.11/site-packages (from ipython>=6.1.0->ipywidgets) (0.7.5)\n",
      "Requirement already satisfied: prompt-toolkit!=3.0.37,<3.1.0,>=3.0.30 in /opt/conda/envs/anaconda-panel-2023.05-py310/lib/python3.11/site-packages (from ipython>=6.1.0->ipywidgets) (3.0.36)\n",
      "Requirement already satisfied: pygments>=2.4.0 in /opt/conda/envs/anaconda-panel-2023.05-py310/lib/python3.11/site-packages (from ipython>=6.1.0->ipywidgets) (2.15.1)\n",
      "Requirement already satisfied: stack-data in /opt/conda/envs/anaconda-panel-2023.05-py310/lib/python3.11/site-packages (from ipython>=6.1.0->ipywidgets) (0.2.0)\n",
      "Requirement already satisfied: pexpect>4.3 in /opt/conda/envs/anaconda-panel-2023.05-py310/lib/python3.11/site-packages (from ipython>=6.1.0->ipywidgets) (4.8.0)\n",
      "Requirement already satisfied: entrypoints in /opt/conda/envs/anaconda-panel-2023.05-py310/lib/python3.11/site-packages (from jupyter-client<9,>=7.4.4->voila) (0.4)\n",
      "Requirement already satisfied: platformdirs>=2.5 in /opt/conda/envs/anaconda-panel-2023.05-py310/lib/python3.11/site-packages (from jupyter-core>=4.11.0->voila) (3.10.0)\n",
      "Requirement already satisfied: anyio<4,>=3.1.0 in /opt/conda/envs/anaconda-panel-2023.05-py310/lib/python3.11/site-packages (from jupyter-server<3,>=1.18->voila) (3.5.0)\n",
      "Requirement already satisfied: argon2-cffi in /opt/conda/envs/anaconda-panel-2023.05-py310/lib/python3.11/site-packages (from jupyter-server<3,>=1.18->voila) (21.3.0)\n",
      "Requirement already satisfied: jinja2 in /opt/conda/envs/anaconda-panel-2023.05-py310/lib/python3.11/site-packages (from jupyter-server<3,>=1.18->voila) (3.1.2)\n",
      "Requirement already satisfied: nbformat>=5.2.0 in /opt/conda/envs/anaconda-panel-2023.05-py310/lib/python3.11/site-packages (from jupyter-server<3,>=1.18->voila) (5.9.2)\n",
      "Requirement already satisfied: prometheus-client in /opt/conda/envs/anaconda-panel-2023.05-py310/lib/python3.11/site-packages (from jupyter-server<3,>=1.18->voila) (0.14.1)\n",
      "Requirement already satisfied: Send2Trash in /opt/conda/envs/anaconda-panel-2023.05-py310/lib/python3.11/site-packages (from jupyter-server<3,>=1.18->voila) (1.8.0)\n",
      "Requirement already satisfied: terminado>=0.8.3 in /opt/conda/envs/anaconda-panel-2023.05-py310/lib/python3.11/site-packages (from jupyter-server<3,>=1.18->voila) (0.17.1)\n",
      "Requirement already satisfied: websocket-client in /opt/conda/envs/anaconda-panel-2023.05-py310/lib/python3.11/site-packages (from jupyter-server<3,>=1.18->voila) (0.58.0)\n",
      "Requirement already satisfied: babel>=2.10 in /opt/conda/envs/anaconda-panel-2023.05-py310/lib/python3.11/site-packages (from jupyterlab-server<3,>=2.3.0->voila) (2.11.0)\n",
      "Requirement already satisfied: json5>=0.9.0 in /opt/conda/envs/anaconda-panel-2023.05-py310/lib/python3.11/site-packages (from jupyterlab-server<3,>=2.3.0->voila) (0.9.6)\n",
      "Requirement already satisfied: jsonschema>=4.17.3 in /opt/conda/envs/anaconda-panel-2023.05-py310/lib/python3.11/site-packages (from jupyterlab-server<3,>=2.3.0->voila) (4.17.3)\n",
      "Requirement already satisfied: requests>=2.28 in /opt/conda/envs/anaconda-panel-2023.05-py310/lib/python3.11/site-packages (from jupyterlab-server<3,>=2.3.0->voila) (2.31.0)\n",
      "Requirement already satisfied: lxml in /opt/conda/envs/anaconda-panel-2023.05-py310/lib/python3.11/site-packages (from nbconvert<8,>=6.4.5->voila) (4.9.3)\n",
      "Requirement already satisfied: beautifulsoup4 in /opt/conda/envs/anaconda-panel-2023.05-py310/lib/python3.11/site-packages (from nbconvert<8,>=6.4.5->voila) (4.12.2)\n",
      "Requirement already satisfied: bleach in /opt/conda/envs/anaconda-panel-2023.05-py310/lib/python3.11/site-packages (from nbconvert<8,>=6.4.5->voila) (4.1.0)\n",
      "Requirement already satisfied: defusedxml in /opt/conda/envs/anaconda-panel-2023.05-py310/lib/python3.11/site-packages (from nbconvert<8,>=6.4.5->voila) (0.7.1)\n",
      "Requirement already satisfied: jupyterlab-pygments in /opt/conda/envs/anaconda-panel-2023.05-py310/lib/python3.11/site-packages (from nbconvert<8,>=6.4.5->voila) (0.1.2)\n",
      "Requirement already satisfied: MarkupSafe>=2.0 in /opt/conda/envs/anaconda-panel-2023.05-py310/lib/python3.11/site-packages (from nbconvert<8,>=6.4.5->voila) (2.1.1)\n",
      "Requirement already satisfied: mistune<2,>=0.8.1 in /opt/conda/envs/anaconda-panel-2023.05-py310/lib/python3.11/site-packages (from nbconvert<8,>=6.4.5->voila) (0.8.4)\n",
      "Requirement already satisfied: pandocfilters>=1.4.1 in /opt/conda/envs/anaconda-panel-2023.05-py310/lib/python3.11/site-packages (from nbconvert<8,>=6.4.5->voila) (1.5.0)\n",
      "Requirement already satisfied: tinycss2 in /opt/conda/envs/anaconda-panel-2023.05-py310/lib/python3.11/site-packages (from nbconvert<8,>=6.4.5->voila) (1.2.1)\n",
      "Requirement already satisfied: six>=1.5 in /opt/conda/envs/anaconda-panel-2023.05-py310/lib/python3.11/site-packages (from python-dateutil>=2.8.2->pandas) (1.16.0)\n",
      "Requirement already satisfied: idna>=2.8 in /opt/conda/envs/anaconda-panel-2023.05-py310/lib/python3.11/site-packages (from anyio<4,>=3.1.0->jupyter-server<3,>=1.18->voila) (3.4)\n",
      "Requirement already satisfied: sniffio>=1.1 in /opt/conda/envs/anaconda-panel-2023.05-py310/lib/python3.11/site-packages (from anyio<4,>=3.1.0->jupyter-server<3,>=1.18->voila) (1.2.0)\n",
      "Requirement already satisfied: parso<0.9.0,>=0.8.0 in /opt/conda/envs/anaconda-panel-2023.05-py310/lib/python3.11/site-packages (from jedi>=0.16->ipython>=6.1.0->ipywidgets) (0.8.3)\n",
      "Requirement already satisfied: attrs>=17.4.0 in /opt/conda/envs/anaconda-panel-2023.05-py310/lib/python3.11/site-packages (from jsonschema>=4.17.3->jupyterlab-server<3,>=2.3.0->voila) (22.1.0)\n",
      "Requirement already satisfied: pyrsistent!=0.17.0,!=0.17.1,!=0.17.2,>=0.14.0 in /opt/conda/envs/anaconda-panel-2023.05-py310/lib/python3.11/site-packages (from jsonschema>=4.17.3->jupyterlab-server<3,>=2.3.0->voila) (0.18.0)\n",
      "Requirement already satisfied: fastjsonschema in /opt/conda/envs/anaconda-panel-2023.05-py310/lib/python3.11/site-packages (from nbformat>=5.2.0->jupyter-server<3,>=1.18->voila) (2.16.2)\n",
      "Requirement already satisfied: ptyprocess>=0.5 in /opt/conda/envs/anaconda-panel-2023.05-py310/lib/python3.11/site-packages (from pexpect>4.3->ipython>=6.1.0->ipywidgets) (0.7.0)\n",
      "Requirement already satisfied: wcwidth in /opt/conda/envs/anaconda-panel-2023.05-py310/lib/python3.11/site-packages (from prompt-toolkit!=3.0.37,<3.1.0,>=3.0.30->ipython>=6.1.0->ipywidgets) (0.2.5)\n",
      "Requirement already satisfied: charset-normalizer<4,>=2 in /opt/conda/envs/anaconda-panel-2023.05-py310/lib/python3.11/site-packages (from requests>=2.28->jupyterlab-server<3,>=2.3.0->voila) (2.0.4)\n",
      "Requirement already satisfied: urllib3<3,>=1.21.1 in /opt/conda/envs/anaconda-panel-2023.05-py310/lib/python3.11/site-packages (from requests>=2.28->jupyterlab-server<3,>=2.3.0->voila) (1.26.16)\n",
      "Requirement already satisfied: certifi>=2017.4.17 in /opt/conda/envs/anaconda-panel-2023.05-py310/lib/python3.11/site-packages (from requests>=2.28->jupyterlab-server<3,>=2.3.0->voila) (2023.7.22)\n",
      "Requirement already satisfied: argon2-cffi-bindings in /opt/conda/envs/anaconda-panel-2023.05-py310/lib/python3.11/site-packages (from argon2-cffi->jupyter-server<3,>=1.18->voila) (21.2.0)\n",
      "Requirement already satisfied: soupsieve>1.2 in /opt/conda/envs/anaconda-panel-2023.05-py310/lib/python3.11/site-packages (from beautifulsoup4->nbconvert<8,>=6.4.5->voila) (2.4)\n",
      "Requirement already satisfied: webencodings in /opt/conda/envs/anaconda-panel-2023.05-py310/lib/python3.11/site-packages (from bleach->nbconvert<8,>=6.4.5->voila) (0.5.1)\n",
      "Requirement already satisfied: executing in /opt/conda/envs/anaconda-panel-2023.05-py310/lib/python3.11/site-packages (from stack-data->ipython>=6.1.0->ipywidgets) (0.8.3)\n",
      "Requirement already satisfied: asttokens in /opt/conda/envs/anaconda-panel-2023.05-py310/lib/python3.11/site-packages (from stack-data->ipython>=6.1.0->ipywidgets) (2.0.5)\n",
      "Requirement already satisfied: pure-eval in /opt/conda/envs/anaconda-panel-2023.05-py310/lib/python3.11/site-packages (from stack-data->ipython>=6.1.0->ipywidgets) (0.2.2)\n",
      "Requirement already satisfied: cffi>=1.0.1 in /opt/conda/envs/anaconda-panel-2023.05-py310/lib/python3.11/site-packages (from argon2-cffi-bindings->argon2-cffi->jupyter-server<3,>=1.18->voila) (1.15.1)\n",
      "Requirement already satisfied: pycparser in /opt/conda/envs/anaconda-panel-2023.05-py310/lib/python3.11/site-packages (from cffi>=1.0.1->argon2-cffi-bindings->argon2-cffi->jupyter-server<3,>=1.18->voila) (2.21)\n",
      "Note: you may need to restart the kernel to use updated packages.\n"
     ]
    }
   ],
   "source": [
    "pip install pandas plotly ipywidgets voila"
   ]
  },
  {
   "cell_type": "code",
   "execution_count": 5,
   "id": "8311b846-a5dc-4938-8000-aed41677fdf6",
   "metadata": {},
   "outputs": [
    {
     "data": {
      "text/markdown": [
       "# 📊 UOP Library Dashboard\n",
       "### 📅 Date: 2025-03-28\n",
       "### 👥 Total Visitors Today: 516"
      ],
      "text/plain": [
       "<IPython.core.display.Markdown object>"
      ]
     },
     "metadata": {},
     "output_type": "display_data"
    },
    {
     "data": {
      "text/markdown": [
       "\n",
       "### 📈 Dashboard Charts Explained:\n",
       "- **Chart 1:** Visitors per Zone – shows how busy each area is.\n",
       "- **Chart 2:** Seat Utilization – proportion of seats in use in each zone.\n",
       "- **Chart 3:** Available Seats – how many seats are still open for new visitors (corrected for no negatives).\n",
       "- **Chart 4:** Visitors vs Occupancy – visualizes visitor load vs seating, with bubble size showing seat usage rate.\n"
      ],
      "text/plain": [
       "<IPython.core.display.Markdown object>"
      ]
     },
     "metadata": {},
     "output_type": "display_data"
    },
    {
     "data": {
      "application/vnd.plotly.v1+json": {
       "config": {
        "plotlyServerURL": "https://plot.ly"
       },
       "data": [
        {
         "marker": {
          "color": "indianred"
         },
         "name": "Visitors",
         "type": "bar",
         "x": [
          "1F - Main Hall",
          "1F - Study Area 100-112",
          "1F - The Cube",
          "1F - Learning Lab",
          "2F - Study Area 200-214",
          "2F - Writing Center",
          "2F - Center for Teaching & Learning",
          "2F - Learning Lab",
          "2F - Multifaith Meditation Room"
         ],
         "xaxis": "x",
         "y": [
          43,
          56,
          33,
          50,
          94,
          90,
          91,
          22,
          37
         ],
         "yaxis": "y"
        },
        {
         "domain": {
          "x": [
           0.55,
           1
          ],
          "y": [
           0.625,
           1
          ]
         },
         "hole": 0.3,
         "labels": [
          "1F - Main Hall",
          "1F - Study Area 100-112",
          "1F - The Cube",
          "1F - Learning Lab",
          "2F - Study Area 200-214",
          "2F - Writing Center",
          "2F - Center for Teaching & Learning",
          "2F - Learning Lab",
          "2F - Multifaith Meditation Room"
         ],
         "name": "Utilization",
         "type": "pie",
         "values": [
          21.2,
          18,
          27.5,
          50,
          39,
          100,
          100,
          20,
          93.3
         ]
        },
        {
         "marker": {
          "color": "lightskyblue"
         },
         "name": "Available Seats",
         "type": "bar",
         "x": [
          "1F - Main Hall",
          "1F - Study Area 100-112",
          "1F - The Cube",
          "1F - Learning Lab",
          "2F - Study Area 200-214",
          "2F - Writing Center",
          "2F - Center for Teaching & Learning",
          "2F - Learning Lab",
          "2F - Multifaith Meditation Room"
         ],
         "xaxis": "x2",
         "y": [
          63,
          82,
          29,
          15,
          61,
          0,
          0,
          24,
          1
         ],
         "yaxis": "y2"
        },
        {
         "marker": {
          "color": "mediumseagreen",
          "size": [
           21.2,
           18,
           27.5,
           50,
           39,
           100,
           100,
           20,
           93.3
          ],
          "sizemin": 4,
          "sizemode": "area",
          "sizeref": 0.125
         },
         "mode": "markers",
         "name": "Visitors vs Occupancy",
         "text": [
          "1F - Main Hall",
          "1F - Study Area 100-112",
          "1F - The Cube",
          "1F - Learning Lab",
          "2F - Study Area 200-214",
          "2F - Writing Center",
          "2F - Center for Teaching & Learning",
          "2F - Learning Lab",
          "2F - Multifaith Meditation Room"
         ],
         "type": "scatter",
         "x": [
          43,
          56,
          33,
          50,
          94,
          90,
          91,
          22,
          37
         ],
         "xaxis": "x3",
         "y": [
          17,
          18,
          11,
          15,
          39,
          20,
          25,
          6,
          14
         ],
         "yaxis": "y3"
        }
       ],
       "layout": {
        "annotations": [
         {
          "font": {
           "size": 16
          },
          "showarrow": false,
          "text": "Visitors per Zone",
          "x": 0.225,
          "xanchor": "center",
          "xref": "paper",
          "y": 1,
          "yanchor": "bottom",
          "yref": "paper"
         },
         {
          "font": {
           "size": 16
          },
          "showarrow": false,
          "text": "Seat Utilization by Zone",
          "x": 0.775,
          "xanchor": "center",
          "xref": "paper",
          "y": 1,
          "yanchor": "bottom",
          "yref": "paper"
         },
         {
          "font": {
           "size": 16
          },
          "showarrow": false,
          "text": "Available Seats per Zone",
          "x": 0.225,
          "xanchor": "center",
          "xref": "paper",
          "y": 0.375,
          "yanchor": "bottom",
          "yref": "paper"
         },
         {
          "font": {
           "size": 16
          },
          "showarrow": false,
          "text": "Visitors vs Occupancy",
          "x": 0.775,
          "xanchor": "center",
          "xref": "paper",
          "y": 0.375,
          "yanchor": "bottom",
          "yref": "paper"
         }
        ],
        "height": 800,
        "showlegend": false,
        "template": {
         "data": {
          "bar": [
           {
            "error_x": {
             "color": "#2a3f5f"
            },
            "error_y": {
             "color": "#2a3f5f"
            },
            "marker": {
             "line": {
              "color": "#E5ECF6",
              "width": 0.5
             },
             "pattern": {
              "fillmode": "overlay",
              "size": 10,
              "solidity": 0.2
             }
            },
            "type": "bar"
           }
          ],
          "barpolar": [
           {
            "marker": {
             "line": {
              "color": "#E5ECF6",
              "width": 0.5
             },
             "pattern": {
              "fillmode": "overlay",
              "size": 10,
              "solidity": 0.2
             }
            },
            "type": "barpolar"
           }
          ],
          "carpet": [
           {
            "aaxis": {
             "endlinecolor": "#2a3f5f",
             "gridcolor": "white",
             "linecolor": "white",
             "minorgridcolor": "white",
             "startlinecolor": "#2a3f5f"
            },
            "baxis": {
             "endlinecolor": "#2a3f5f",
             "gridcolor": "white",
             "linecolor": "white",
             "minorgridcolor": "white",
             "startlinecolor": "#2a3f5f"
            },
            "type": "carpet"
           }
          ],
          "choropleth": [
           {
            "colorbar": {
             "outlinewidth": 0,
             "ticks": ""
            },
            "type": "choropleth"
           }
          ],
          "contour": [
           {
            "colorbar": {
             "outlinewidth": 0,
             "ticks": ""
            },
            "colorscale": [
             [
              0,
              "#0d0887"
             ],
             [
              0.1111111111111111,
              "#46039f"
             ],
             [
              0.2222222222222222,
              "#7201a8"
             ],
             [
              0.3333333333333333,
              "#9c179e"
             ],
             [
              0.4444444444444444,
              "#bd3786"
             ],
             [
              0.5555555555555556,
              "#d8576b"
             ],
             [
              0.6666666666666666,
              "#ed7953"
             ],
             [
              0.7777777777777778,
              "#fb9f3a"
             ],
             [
              0.8888888888888888,
              "#fdca26"
             ],
             [
              1,
              "#f0f921"
             ]
            ],
            "type": "contour"
           }
          ],
          "contourcarpet": [
           {
            "colorbar": {
             "outlinewidth": 0,
             "ticks": ""
            },
            "type": "contourcarpet"
           }
          ],
          "heatmap": [
           {
            "colorbar": {
             "outlinewidth": 0,
             "ticks": ""
            },
            "colorscale": [
             [
              0,
              "#0d0887"
             ],
             [
              0.1111111111111111,
              "#46039f"
             ],
             [
              0.2222222222222222,
              "#7201a8"
             ],
             [
              0.3333333333333333,
              "#9c179e"
             ],
             [
              0.4444444444444444,
              "#bd3786"
             ],
             [
              0.5555555555555556,
              "#d8576b"
             ],
             [
              0.6666666666666666,
              "#ed7953"
             ],
             [
              0.7777777777777778,
              "#fb9f3a"
             ],
             [
              0.8888888888888888,
              "#fdca26"
             ],
             [
              1,
              "#f0f921"
             ]
            ],
            "type": "heatmap"
           }
          ],
          "heatmapgl": [
           {
            "colorbar": {
             "outlinewidth": 0,
             "ticks": ""
            },
            "colorscale": [
             [
              0,
              "#0d0887"
             ],
             [
              0.1111111111111111,
              "#46039f"
             ],
             [
              0.2222222222222222,
              "#7201a8"
             ],
             [
              0.3333333333333333,
              "#9c179e"
             ],
             [
              0.4444444444444444,
              "#bd3786"
             ],
             [
              0.5555555555555556,
              "#d8576b"
             ],
             [
              0.6666666666666666,
              "#ed7953"
             ],
             [
              0.7777777777777778,
              "#fb9f3a"
             ],
             [
              0.8888888888888888,
              "#fdca26"
             ],
             [
              1,
              "#f0f921"
             ]
            ],
            "type": "heatmapgl"
           }
          ],
          "histogram": [
           {
            "marker": {
             "pattern": {
              "fillmode": "overlay",
              "size": 10,
              "solidity": 0.2
             }
            },
            "type": "histogram"
           }
          ],
          "histogram2d": [
           {
            "colorbar": {
             "outlinewidth": 0,
             "ticks": ""
            },
            "colorscale": [
             [
              0,
              "#0d0887"
             ],
             [
              0.1111111111111111,
              "#46039f"
             ],
             [
              0.2222222222222222,
              "#7201a8"
             ],
             [
              0.3333333333333333,
              "#9c179e"
             ],
             [
              0.4444444444444444,
              "#bd3786"
             ],
             [
              0.5555555555555556,
              "#d8576b"
             ],
             [
              0.6666666666666666,
              "#ed7953"
             ],
             [
              0.7777777777777778,
              "#fb9f3a"
             ],
             [
              0.8888888888888888,
              "#fdca26"
             ],
             [
              1,
              "#f0f921"
             ]
            ],
            "type": "histogram2d"
           }
          ],
          "histogram2dcontour": [
           {
            "colorbar": {
             "outlinewidth": 0,
             "ticks": ""
            },
            "colorscale": [
             [
              0,
              "#0d0887"
             ],
             [
              0.1111111111111111,
              "#46039f"
             ],
             [
              0.2222222222222222,
              "#7201a8"
             ],
             [
              0.3333333333333333,
              "#9c179e"
             ],
             [
              0.4444444444444444,
              "#bd3786"
             ],
             [
              0.5555555555555556,
              "#d8576b"
             ],
             [
              0.6666666666666666,
              "#ed7953"
             ],
             [
              0.7777777777777778,
              "#fb9f3a"
             ],
             [
              0.8888888888888888,
              "#fdca26"
             ],
             [
              1,
              "#f0f921"
             ]
            ],
            "type": "histogram2dcontour"
           }
          ],
          "mesh3d": [
           {
            "colorbar": {
             "outlinewidth": 0,
             "ticks": ""
            },
            "type": "mesh3d"
           }
          ],
          "parcoords": [
           {
            "line": {
             "colorbar": {
              "outlinewidth": 0,
              "ticks": ""
             }
            },
            "type": "parcoords"
           }
          ],
          "pie": [
           {
            "automargin": true,
            "type": "pie"
           }
          ],
          "scatter": [
           {
            "fillpattern": {
             "fillmode": "overlay",
             "size": 10,
             "solidity": 0.2
            },
            "type": "scatter"
           }
          ],
          "scatter3d": [
           {
            "line": {
             "colorbar": {
              "outlinewidth": 0,
              "ticks": ""
             }
            },
            "marker": {
             "colorbar": {
              "outlinewidth": 0,
              "ticks": ""
             }
            },
            "type": "scatter3d"
           }
          ],
          "scattercarpet": [
           {
            "marker": {
             "colorbar": {
              "outlinewidth": 0,
              "ticks": ""
             }
            },
            "type": "scattercarpet"
           }
          ],
          "scattergeo": [
           {
            "marker": {
             "colorbar": {
              "outlinewidth": 0,
              "ticks": ""
             }
            },
            "type": "scattergeo"
           }
          ],
          "scattergl": [
           {
            "marker": {
             "colorbar": {
              "outlinewidth": 0,
              "ticks": ""
             }
            },
            "type": "scattergl"
           }
          ],
          "scattermapbox": [
           {
            "marker": {
             "colorbar": {
              "outlinewidth": 0,
              "ticks": ""
             }
            },
            "type": "scattermapbox"
           }
          ],
          "scatterpolar": [
           {
            "marker": {
             "colorbar": {
              "outlinewidth": 0,
              "ticks": ""
             }
            },
            "type": "scatterpolar"
           }
          ],
          "scatterpolargl": [
           {
            "marker": {
             "colorbar": {
              "outlinewidth": 0,
              "ticks": ""
             }
            },
            "type": "scatterpolargl"
           }
          ],
          "scatterternary": [
           {
            "marker": {
             "colorbar": {
              "outlinewidth": 0,
              "ticks": ""
             }
            },
            "type": "scatterternary"
           }
          ],
          "surface": [
           {
            "colorbar": {
             "outlinewidth": 0,
             "ticks": ""
            },
            "colorscale": [
             [
              0,
              "#0d0887"
             ],
             [
              0.1111111111111111,
              "#46039f"
             ],
             [
              0.2222222222222222,
              "#7201a8"
             ],
             [
              0.3333333333333333,
              "#9c179e"
             ],
             [
              0.4444444444444444,
              "#bd3786"
             ],
             [
              0.5555555555555556,
              "#d8576b"
             ],
             [
              0.6666666666666666,
              "#ed7953"
             ],
             [
              0.7777777777777778,
              "#fb9f3a"
             ],
             [
              0.8888888888888888,
              "#fdca26"
             ],
             [
              1,
              "#f0f921"
             ]
            ],
            "type": "surface"
           }
          ],
          "table": [
           {
            "cells": {
             "fill": {
              "color": "#EBF0F8"
             },
             "line": {
              "color": "white"
             }
            },
            "header": {
             "fill": {
              "color": "#C8D4E3"
             },
             "line": {
              "color": "white"
             }
            },
            "type": "table"
           }
          ]
         },
         "layout": {
          "annotationdefaults": {
           "arrowcolor": "#2a3f5f",
           "arrowhead": 0,
           "arrowwidth": 1
          },
          "autotypenumbers": "strict",
          "coloraxis": {
           "colorbar": {
            "outlinewidth": 0,
            "ticks": ""
           }
          },
          "colorscale": {
           "diverging": [
            [
             0,
             "#8e0152"
            ],
            [
             0.1,
             "#c51b7d"
            ],
            [
             0.2,
             "#de77ae"
            ],
            [
             0.3,
             "#f1b6da"
            ],
            [
             0.4,
             "#fde0ef"
            ],
            [
             0.5,
             "#f7f7f7"
            ],
            [
             0.6,
             "#e6f5d0"
            ],
            [
             0.7,
             "#b8e186"
            ],
            [
             0.8,
             "#7fbc41"
            ],
            [
             0.9,
             "#4d9221"
            ],
            [
             1,
             "#276419"
            ]
           ],
           "sequential": [
            [
             0,
             "#0d0887"
            ],
            [
             0.1111111111111111,
             "#46039f"
            ],
            [
             0.2222222222222222,
             "#7201a8"
            ],
            [
             0.3333333333333333,
             "#9c179e"
            ],
            [
             0.4444444444444444,
             "#bd3786"
            ],
            [
             0.5555555555555556,
             "#d8576b"
            ],
            [
             0.6666666666666666,
             "#ed7953"
            ],
            [
             0.7777777777777778,
             "#fb9f3a"
            ],
            [
             0.8888888888888888,
             "#fdca26"
            ],
            [
             1,
             "#f0f921"
            ]
           ],
           "sequentialminus": [
            [
             0,
             "#0d0887"
            ],
            [
             0.1111111111111111,
             "#46039f"
            ],
            [
             0.2222222222222222,
             "#7201a8"
            ],
            [
             0.3333333333333333,
             "#9c179e"
            ],
            [
             0.4444444444444444,
             "#bd3786"
            ],
            [
             0.5555555555555556,
             "#d8576b"
            ],
            [
             0.6666666666666666,
             "#ed7953"
            ],
            [
             0.7777777777777778,
             "#fb9f3a"
            ],
            [
             0.8888888888888888,
             "#fdca26"
            ],
            [
             1,
             "#f0f921"
            ]
           ]
          },
          "colorway": [
           "#636efa",
           "#EF553B",
           "#00cc96",
           "#ab63fa",
           "#FFA15A",
           "#19d3f3",
           "#FF6692",
           "#B6E880",
           "#FF97FF",
           "#FECB52"
          ],
          "font": {
           "color": "#2a3f5f"
          },
          "geo": {
           "bgcolor": "white",
           "lakecolor": "white",
           "landcolor": "#E5ECF6",
           "showlakes": true,
           "showland": true,
           "subunitcolor": "white"
          },
          "hoverlabel": {
           "align": "left"
          },
          "hovermode": "closest",
          "mapbox": {
           "style": "light"
          },
          "paper_bgcolor": "white",
          "plot_bgcolor": "#E5ECF6",
          "polar": {
           "angularaxis": {
            "gridcolor": "white",
            "linecolor": "white",
            "ticks": ""
           },
           "bgcolor": "#E5ECF6",
           "radialaxis": {
            "gridcolor": "white",
            "linecolor": "white",
            "ticks": ""
           }
          },
          "scene": {
           "xaxis": {
            "backgroundcolor": "#E5ECF6",
            "gridcolor": "white",
            "gridwidth": 2,
            "linecolor": "white",
            "showbackground": true,
            "ticks": "",
            "zerolinecolor": "white"
           },
           "yaxis": {
            "backgroundcolor": "#E5ECF6",
            "gridcolor": "white",
            "gridwidth": 2,
            "linecolor": "white",
            "showbackground": true,
            "ticks": "",
            "zerolinecolor": "white"
           },
           "zaxis": {
            "backgroundcolor": "#E5ECF6",
            "gridcolor": "white",
            "gridwidth": 2,
            "linecolor": "white",
            "showbackground": true,
            "ticks": "",
            "zerolinecolor": "white"
           }
          },
          "shapedefaults": {
           "line": {
            "color": "#2a3f5f"
           }
          },
          "ternary": {
           "aaxis": {
            "gridcolor": "white",
            "linecolor": "white",
            "ticks": ""
           },
           "baxis": {
            "gridcolor": "white",
            "linecolor": "white",
            "ticks": ""
           },
           "bgcolor": "#E5ECF6",
           "caxis": {
            "gridcolor": "white",
            "linecolor": "white",
            "ticks": ""
           }
          },
          "title": {
           "x": 0.05
          },
          "xaxis": {
           "automargin": true,
           "gridcolor": "white",
           "linecolor": "white",
           "ticks": "",
           "title": {
            "standoff": 15
           },
           "zerolinecolor": "white",
           "zerolinewidth": 2
          },
          "yaxis": {
           "automargin": true,
           "gridcolor": "white",
           "linecolor": "white",
           "ticks": "",
           "title": {
            "standoff": 15
           },
           "zerolinecolor": "white",
           "zerolinewidth": 2
          }
         }
        },
        "title": {
         "text": "Library Usage Overview (2x2 Layout)"
        },
        "width": 1100,
        "xaxis": {
         "anchor": "y",
         "autorange": true,
         "domain": [
          0,
          0.45
         ],
         "range": [
          -0.5,
          8.5
         ],
         "type": "category"
        },
        "xaxis2": {
         "anchor": "y2",
         "autorange": true,
         "domain": [
          0,
          0.45
         ],
         "range": [
          -0.5,
          8.5
         ],
         "type": "category"
        },
        "xaxis3": {
         "anchor": "y3",
         "autorange": true,
         "domain": [
          0.55,
          1
         ],
         "range": [
          15.490796250011378,
          101.38704168701042
         ],
         "type": "linear"
        },
        "yaxis": {
         "anchor": "x",
         "autorange": true,
         "domain": [
          0.625,
          1
         ],
         "range": [
          0,
          98.94736842105263
         ],
         "type": "linear"
        },
        "yaxis2": {
         "anchor": "x2",
         "autorange": true,
         "domain": [
          0,
          0.375
         ],
         "range": [
          0,
          86.3157894736842
         ],
         "type": "linear"
        },
        "yaxis3": {
         "anchor": "x3",
         "autorange": true,
         "domain": [
          0,
          0.375
         ],
         "range": [
          1.9283526533806512,
          43.85471526441554
         ],
         "type": "linear"
        }
       }
      },
      "image/png": "[encoded data removed]",
      "text/html": [
       "<div>                            <div id=\"315796fc-2d66-4b2d-8771-3eacee302f04\" class=\"plotly-graph-div\" style=\"height:800px; width:1100px;\"></div>            <script type=\"text/javascript\">                require([\"plotly\"], function(Plotly) {                    window.PLOTLYENV=window.PLOTLYENV || {};                                    if (document.getElementById(\"315796fc-2d66-4b2d-8771-3eacee302f04\")) {                    Plotly.newPlot(                        \"315796fc-2d66-4b2d-8771-3eacee302f04\",                        [{\"marker\":{\"color\":\"indianred\"},\"name\":\"Visitors\",\"x\":[\"1F - Main Hall\",\"1F - Study Area 100-112\",\"1F - The Cube\",\"1F - Learning Lab\",\"2F - Study Area 200-214\",\"2F - Writing Center\",\"2F - Center for Teaching & Learning\",\"2F - Learning Lab\",\"2F - Multifaith Meditation Room\"],\"y\":[43,56,33,50,94,90,91,22,37],\"type\":\"bar\",\"xaxis\":\"x\",\"yaxis\":\"y\"},{\"hole\":0.3,\"labels\":[\"1F - Main Hall\",\"1F - Study Area 100-112\",\"1F - The Cube\",\"1F - Learning Lab\",\"2F - Study Area 200-214\",\"2F - Writing Center\",\"2F - Center for Teaching & Learning\",\"2F - Learning Lab\",\"2F - Multifaith Meditation Room\"],\"name\":\"Utilization\",\"values\":[21.2,18.0,27.5,50.0,39.0,100.0,100.0,20.0,93.3],\"type\":\"pie\",\"domain\":{\"x\":[0.55,1.0],\"y\":[0.625,1.0]}},{\"marker\":{\"color\":\"lightskyblue\"},\"name\":\"Available Seats\",\"x\":[\"1F - Main Hall\",\"1F - Study Area 100-112\",\"1F - The Cube\",\"1F - Learning Lab\",\"2F - Study Area 200-214\",\"2F - Writing Center\",\"2F - Center for Teaching & Learning\",\"2F - Learning Lab\",\"2F - Multifaith Meditation Room\"],\"y\":[63,82,29,15,61,0,0,24,1],\"type\":\"bar\",\"xaxis\":\"x2\",\"yaxis\":\"y2\"},{\"marker\":{\"color\":\"mediumseagreen\",\"size\":[21.2,18.0,27.5,50.0,39.0,100.0,100.0,20.0,93.3],\"sizemin\":4,\"sizemode\":\"area\",\"sizeref\":0.125},\"mode\":\"markers\",\"name\":\"Visitors vs Occupancy\",\"text\":[\"1F - Main Hall\",\"1F - Study Area 100-112\",\"1F - The Cube\",\"1F - Learning Lab\",\"2F - Study Area 200-214\",\"2F - Writing Center\",\"2F - Center for Teaching & Learning\",\"2F - Learning Lab\",\"2F - Multifaith Meditation Room\"],\"x\":[43,56,33,50,94,90,91,22,37],\"y\":[17,18,11,15,39,20,25,6,14],\"type\":\"scatter\",\"xaxis\":\"x3\",\"yaxis\":\"y3\"}],                        {\"template\":{\"data\":{\"histogram2dcontour\":[{\"type\":\"histogram2dcontour\",\"colorbar\":{\"outlinewidth\":0,\"ticks\":\"\"},\"colorscale\":[[0.0,\"#0d0887\"],[0.1111111111111111,\"#46039f\"],[0.2222222222222222,\"#7201a8\"],[0.3333333333333333,\"#9c179e\"],[0.4444444444444444,\"#bd3786\"],[0.5555555555555556,\"#d8576b\"],[0.6666666666666666,\"#ed7953\"],[0.7777777777777778,\"#fb9f3a\"],[0.8888888888888888,\"#fdca26\"],[1.0,\"#f0f921\"]]}],\"choropleth\":[{\"type\":\"choropleth\",\"colorbar\":{\"outlinewidth\":0,\"ticks\":\"\"}}],\"histogram2d\":[{\"type\":\"histogram2d\",\"colorbar\":{\"outlinewidth\":0,\"ticks\":\"\"},\"colorscale\":[[0.0,\"#0d0887\"],[0.1111111111111111,\"#46039f\"],[0.2222222222222222,\"#7201a8\"],[0.3333333333333333,\"#9c179e\"],[0.4444444444444444,\"#bd3786\"],[0.5555555555555556,\"#d8576b\"],[0.6666666666666666,\"#ed7953\"],[0.7777777777777778,\"#fb9f3a\"],[0.8888888888888888,\"#fdca26\"],[1.0,\"#f0f921\"]]}],\"heatmap\":[{\"type\":\"heatmap\",\"colorbar\":{\"outlinewidth\":0,\"ticks\":\"\"},\"colorscale\":[[0.0,\"#0d0887\"],[0.1111111111111111,\"#46039f\"],[0.2222222222222222,\"#7201a8\"],[0.3333333333333333,\"#9c179e\"],[0.4444444444444444,\"#bd3786\"],[0.5555555555555556,\"#d8576b\"],[0.6666666666666666,\"#ed7953\"],[0.7777777777777778,\"#fb9f3a\"],[0.8888888888888888,\"#fdca26\"],[1.0,\"#f0f921\"]]}],\"heatmapgl\":[{\"type\":\"heatmapgl\",\"colorbar\":{\"outlinewidth\":0,\"ticks\":\"\"},\"colorscale\":[[0.0,\"#0d0887\"],[0.1111111111111111,\"#46039f\"],[0.2222222222222222,\"#7201a8\"],[0.3333333333333333,\"#9c179e\"],[0.4444444444444444,\"#bd3786\"],[0.5555555555555556,\"#d8576b\"],[0.6666666666666666,\"#ed7953\"],[0.7777777777777778,\"#fb9f3a\"],[0.8888888888888888,\"#fdca26\"],[1.0,\"#f0f921\"]]}],\"contourcarpet\":[{\"type\":\"contourcarpet\",\"colorbar\":{\"outlinewidth\":0,\"ticks\":\"\"}}],\"contour\":[{\"type\":\"contour\",\"colorbar\":{\"outlinewidth\":0,\"ticks\":\"\"},\"colorscale\":[[0.0,\"#0d0887\"],[0.1111111111111111,\"#46039f\"],[0.2222222222222222,\"#7201a8\"],[0.3333333333333333,\"#9c179e\"],[0.4444444444444444,\"#bd3786\"],[0.5555555555555556,\"#d8576b\"],[0.6666666666666666,\"#ed7953\"],[0.7777777777777778,\"#fb9f3a\"],[0.8888888888888888,\"#fdca26\"],[1.0,\"#f0f921\"]]}],\"surface\":[{\"type\":\"surface\",\"colorbar\":{\"outlinewidth\":0,\"ticks\":\"\"},\"colorscale\":[[0.0,\"#0d0887\"],[0.1111111111111111,\"#46039f\"],[0.2222222222222222,\"#7201a8\"],[0.3333333333333333,\"#9c179e\"],[0.4444444444444444,\"#bd3786\"],[0.5555555555555556,\"#d8576b\"],[0.6666666666666666,\"#ed7953\"],[0.7777777777777778,\"#fb9f3a\"],[0.8888888888888888,\"#fdca26\"],[1.0,\"#f0f921\"]]}],\"mesh3d\":[{\"type\":\"mesh3d\",\"colorbar\":{\"outlinewidth\":0,\"ticks\":\"\"}}],\"scatter\":[{\"fillpattern\":{\"fillmode\":\"overlay\",\"size\":10,\"solidity\":0.2},\"type\":\"scatter\"}],\"parcoords\":[{\"type\":\"parcoords\",\"line\":{\"colorbar\":{\"outlinewidth\":0,\"ticks\":\"\"}}}],\"scatterpolargl\":[{\"type\":\"scatterpolargl\",\"marker\":{\"colorbar\":{\"outlinewidth\":0,\"ticks\":\"\"}}}],\"bar\":[{\"error_x\":{\"color\":\"#2a3f5f\"},\"error_y\":{\"color\":\"#2a3f5f\"},\"marker\":{\"line\":{\"color\":\"#E5ECF6\",\"width\":0.5},\"pattern\":{\"fillmode\":\"overlay\",\"size\":10,\"solidity\":0.2}},\"type\":\"bar\"}],\"scattergeo\":[{\"type\":\"scattergeo\",\"marker\":{\"colorbar\":{\"outlinewidth\":0,\"ticks\":\"\"}}}],\"scatterpolar\":[{\"type\":\"scatterpolar\",\"marker\":{\"colorbar\":{\"outlinewidth\":0,\"ticks\":\"\"}}}],\"histogram\":[{\"marker\":{\"pattern\":{\"fillmode\":\"overlay\",\"size\":10,\"solidity\":0.2}},\"type\":\"histogram\"}],\"scattergl\":[{\"type\":\"scattergl\",\"marker\":{\"colorbar\":{\"outlinewidth\":0,\"ticks\":\"\"}}}],\"scatter3d\":[{\"type\":\"scatter3d\",\"line\":{\"colorbar\":{\"outlinewidth\":0,\"ticks\":\"\"}},\"marker\":{\"colorbar\":{\"outlinewidth\":0,\"ticks\":\"\"}}}],\"scattermapbox\":[{\"type\":\"scattermapbox\",\"marker\":{\"colorbar\":{\"outlinewidth\":0,\"ticks\":\"\"}}}],\"scatterternary\":[{\"type\":\"scatterternary\",\"marker\":{\"colorbar\":{\"outlinewidth\":0,\"ticks\":\"\"}}}],\"scattercarpet\":[{\"type\":\"scattercarpet\",\"marker\":{\"colorbar\":{\"outlinewidth\":0,\"ticks\":\"\"}}}],\"carpet\":[{\"aaxis\":{\"endlinecolor\":\"#2a3f5f\",\"gridcolor\":\"white\",\"linecolor\":\"white\",\"minorgridcolor\":\"white\",\"startlinecolor\":\"#2a3f5f\"},\"baxis\":{\"endlinecolor\":\"#2a3f5f\",\"gridcolor\":\"white\",\"linecolor\":\"white\",\"minorgridcolor\":\"white\",\"startlinecolor\":\"#2a3f5f\"},\"type\":\"carpet\"}],\"table\":[{\"cells\":{\"fill\":{\"color\":\"#EBF0F8\"},\"line\":{\"color\":\"white\"}},\"header\":{\"fill\":{\"color\":\"#C8D4E3\"},\"line\":{\"color\":\"white\"}},\"type\":\"table\"}],\"barpolar\":[{\"marker\":{\"line\":{\"color\":\"#E5ECF6\",\"width\":0.5},\"pattern\":{\"fillmode\":\"overlay\",\"size\":10,\"solidity\":0.2}},\"type\":\"barpolar\"}],\"pie\":[{\"automargin\":true,\"type\":\"pie\"}]},\"layout\":{\"autotypenumbers\":\"strict\",\"colorway\":[\"#636efa\",\"#EF553B\",\"#00cc96\",\"#ab63fa\",\"#FFA15A\",\"#19d3f3\",\"#FF6692\",\"#B6E880\",\"#FF97FF\",\"#FECB52\"],\"font\":{\"color\":\"#2a3f5f\"},\"hovermode\":\"closest\",\"hoverlabel\":{\"align\":\"left\"},\"paper_bgcolor\":\"white\",\"plot_bgcolor\":\"#E5ECF6\",\"polar\":{\"bgcolor\":\"#E5ECF6\",\"angularaxis\":{\"gridcolor\":\"white\",\"linecolor\":\"white\",\"ticks\":\"\"},\"radialaxis\":{\"gridcolor\":\"white\",\"linecolor\":\"white\",\"ticks\":\"\"}},\"ternary\":{\"bgcolor\":\"#E5ECF6\",\"aaxis\":{\"gridcolor\":\"white\",\"linecolor\":\"white\",\"ticks\":\"\"},\"baxis\":{\"gridcolor\":\"white\",\"linecolor\":\"white\",\"ticks\":\"\"},\"caxis\":{\"gridcolor\":\"white\",\"linecolor\":\"white\",\"ticks\":\"\"}},\"coloraxis\":{\"colorbar\":{\"outlinewidth\":0,\"ticks\":\"\"}},\"colorscale\":{\"sequential\":[[0.0,\"#0d0887\"],[0.1111111111111111,\"#46039f\"],[0.2222222222222222,\"#7201a8\"],[0.3333333333333333,\"#9c179e\"],[0.4444444444444444,\"#bd3786\"],[0.5555555555555556,\"#d8576b\"],[0.6666666666666666,\"#ed7953\"],[0.7777777777777778,\"#fb9f3a\"],[0.8888888888888888,\"#fdca26\"],[1.0,\"#f0f921\"]],\"sequentialminus\":[[0.0,\"#0d0887\"],[0.1111111111111111,\"#46039f\"],[0.2222222222222222,\"#7201a8\"],[0.3333333333333333,\"#9c179e\"],[0.4444444444444444,\"#bd3786\"],[0.5555555555555556,\"#d8576b\"],[0.6666666666666666,\"#ed7953\"],[0.7777777777777778,\"#fb9f3a\"],[0.8888888888888888,\"#fdca26\"],[1.0,\"#f0f921\"]],\"diverging\":[[0,\"#8e0152\"],[0.1,\"#c51b7d\"],[0.2,\"#de77ae\"],[0.3,\"#f1b6da\"],[0.4,\"#fde0ef\"],[0.5,\"#f7f7f7\"],[0.6,\"#e6f5d0\"],[0.7,\"#b8e186\"],[0.8,\"#7fbc41\"],[0.9,\"#4d9221\"],[1,\"#276419\"]]},\"xaxis\":{\"gridcolor\":\"white\",\"linecolor\":\"white\",\"ticks\":\"\",\"title\":{\"standoff\":15},\"zerolinecolor\":\"white\",\"automargin\":true,\"zerolinewidth\":2},\"yaxis\":{\"gridcolor\":\"white\",\"linecolor\":\"white\",\"ticks\":\"\",\"title\":{\"standoff\":15},\"zerolinecolor\":\"white\",\"automargin\":true,\"zerolinewidth\":2},\"scene\":{\"xaxis\":{\"backgroundcolor\":\"#E5ECF6\",\"gridcolor\":\"white\",\"linecolor\":\"white\",\"showbackground\":true,\"ticks\":\"\",\"zerolinecolor\":\"white\",\"gridwidth\":2},\"yaxis\":{\"backgroundcolor\":\"#E5ECF6\",\"gridcolor\":\"white\",\"linecolor\":\"white\",\"showbackground\":true,\"ticks\":\"\",\"zerolinecolor\":\"white\",\"gridwidth\":2},\"zaxis\":{\"backgroundcolor\":\"#E5ECF6\",\"gridcolor\":\"white\",\"linecolor\":\"white\",\"showbackground\":true,\"ticks\":\"\",\"zerolinecolor\":\"white\",\"gridwidth\":2}},\"shapedefaults\":{\"line\":{\"color\":\"#2a3f5f\"}},\"annotationdefaults\":{\"arrowcolor\":\"#2a3f5f\",\"arrowhead\":0,\"arrowwidth\":1},\"geo\":{\"bgcolor\":\"white\",\"landcolor\":\"#E5ECF6\",\"subunitcolor\":\"white\",\"showland\":true,\"showlakes\":true,\"lakecolor\":\"white\"},\"title\":{\"x\":0.05},\"mapbox\":{\"style\":\"light\"}}},\"xaxis\":{\"anchor\":\"y\",\"domain\":[0.0,0.45]},\"yaxis\":{\"anchor\":\"x\",\"domain\":[0.625,1.0]},\"xaxis2\":{\"anchor\":\"y2\",\"domain\":[0.0,0.45]},\"yaxis2\":{\"anchor\":\"x2\",\"domain\":[0.0,0.375]},\"xaxis3\":{\"anchor\":\"y3\",\"domain\":[0.55,1.0]},\"yaxis3\":{\"anchor\":\"x3\",\"domain\":[0.0,0.375]},\"annotations\":[{\"font\":{\"size\":16},\"showarrow\":false,\"text\":\"Visitors per Zone\",\"x\":0.225,\"xanchor\":\"center\",\"xref\":\"paper\",\"y\":1.0,\"yanchor\":\"bottom\",\"yref\":\"paper\"},{\"font\":{\"size\":16},\"showarrow\":false,\"text\":\"Seat Utilization by Zone\",\"x\":0.775,\"xanchor\":\"center\",\"xref\":\"paper\",\"y\":1.0,\"yanchor\":\"bottom\",\"yref\":\"paper\"},{\"font\":{\"size\":16},\"showarrow\":false,\"text\":\"Available Seats per Zone\",\"x\":0.225,\"xanchor\":\"center\",\"xref\":\"paper\",\"y\":0.375,\"yanchor\":\"bottom\",\"yref\":\"paper\"},{\"font\":{\"size\":16},\"showarrow\":false,\"text\":\"Visitors vs Occupancy\",\"x\":0.775,\"xanchor\":\"center\",\"xref\":\"paper\",\"y\":0.375,\"yanchor\":\"bottom\",\"yref\":\"paper\"}],\"title\":{\"text\":\"Library Usage Overview (2x2 Layout)\"},\"height\":800,\"width\":1100,\"showlegend\":false},                        {\"responsive\": true}                    ).then(function(){\n",
       "                            \n",
       "var gd = document.getElementById('315796fc-2d66-4b2d-8771-3eacee302f04');\n",
       "var x = new MutationObserver(function (mutations, observer) {{\n",
       "        var display = window.getComputedStyle(gd).display;\n",
       "        if (!display || display === 'none') {{\n",
       "            console.log([gd, 'removed!']);\n",
       "            Plotly.purge(gd);\n",
       "            observer.disconnect();\n",
       "        }}\n",
       "}});\n",
       "\n",
       "// Listen for the removal of the full notebook cells\n",
       "var notebookContainer = gd.closest('#notebook-container');\n",
       "if (notebookContainer) {{\n",
       "    x.observe(notebookContainer, {childList: true});\n",
       "}}\n",
       "\n",
       "// Listen for the clearing of the current output cell\n",
       "var outputEl = gd.closest('.output');\n",
       "if (outputEl) {{\n",
       "    x.observe(outputEl, {childList: true});\n",
       "}}\n",
       "\n",
       "                        })                };                });            </script>        </div>"
      ]
     },
     "metadata": {},
     "output_type": "display_data"
    },
    {
     "data": {
      "application/vnd.jupyter.widget-view+json": {
       "model_id": "f387687efec548898f427d59720e2013",
       "version_major": 2,
       "version_minor": 0
      },
      "text/plain": [
       "interactive(children=(Dropdown(description='Select Zone', options=('1F - Main Hall', '1F - Study Area 100-112'…"
      ]
     },
     "metadata": {},
     "output_type": "display_data"
    },
    {
     "data": {
      "text/plain": [
       "<function __main__.show_area_detail(selected_area)>"
      ]
     },
     "execution_count": 5,
     "metadata": {},
     "output_type": "execute_result"
    }
   ],
   "source": [
    "# 📊 UOP Library Dashboard (Based on Floor Maps - 2x2 Layout)\n",
    "\n",
    "import pandas as pd\n",
    "import plotly.graph_objects as go\n",
    "from plotly.subplots import make_subplots\n",
    "import ipywidgets as widgets\n",
    "from IPython.display import display, Markdown, HTML\n",
    "import random\n",
    "from datetime import datetime\n",
    "\n",
    "# Define library zones by floor and function\n",
    "areas = [\n",
    "    '1F - Main Hall',\n",
    "    '1F - Study Area 100-112',\n",
    "    '1F - The Cube',\n",
    "    '1F - Learning Lab',\n",
    "    '2F - Study Area 200-214',\n",
    "    '2F - Writing Center',\n",
    "    '2F - Center for Teaching & Learning',\n",
    "    '2F - Learning Lab',\n",
    "    '2F - Multifaith Meditation Room'\n",
    "]\n",
    "\n",
    "today = datetime.now().strftime('%Y-%m-%d')\n",
    "\n",
    "# Simulate data\n",
    "data = {\n",
    "    'Date': [today] * len(areas),\n",
    "    'Zone': areas,\n",
    "    'Visitors': [random.randint(20, 120) for _ in areas],\n",
    "    'Total Seats': [80, 100, 40, 30, 100, 20, 25, 30, 15]\n",
    "}\n",
    "\n",
    "df = pd.DataFrame(data)\n",
    "df['Available Seats'] = df['Total Seats'] - df['Visitors'].apply(lambda x: int(x * random.uniform(0.3, 0.7)))\n",
    "df['Available Seats'] = df['Available Seats'].apply(lambda x: max(x, 0))  # Prevent negative values\n",
    "\n",
    "df['Utilization (%)'] = ((df['Total Seats'] - df['Available Seats']) / df['Total Seats'] * 100).round(1)\n",
    "df['Occupancy'] = df['Total Seats'] - df['Available Seats']\n",
    "\n",
    "# Prevent zero division in scatter sizeref\n",
    "max_util = max(df['Utilization (%)']) if max(df['Utilization (%)']) > 0 else 1\n",
    "\n",
    "# Total visitor count\n",
    "total_visits = df['Visitors'].sum()\n",
    "\n",
    "# Display title and summary info\n",
    "display(Markdown(f\"# \\U0001F4CA UOP Library Dashboard\\n### \\U0001F4C5 Date: {today}\\n### \\U0001F465 Total Visitors Today: {total_visits}\"))\n",
    "\n",
    "# Dashboard intro text\n",
    "display(Markdown(\"\"\"\n",
    "### 📈 Dashboard Charts Explained:\n",
    "- **Chart 1:** Visitors per Zone – shows how busy each area is.\n",
    "- **Chart 2:** Seat Utilization – proportion of seats in use in each zone.\n",
    "- **Chart 3:** Available Seats – how many seats are still open for new visitors (corrected for no negatives).\n",
    "- **Chart 4:** Visitors vs Occupancy – visualizes visitor load vs seating, with bubble size showing seat usage rate.\n",
    "\"\"\"))\n",
    "\n",
    "# Create 2x2 subplot layout with pie support\n",
    "fig = make_subplots(\n",
    "    rows=2, cols=2,\n",
    "    specs=[[{\"type\": \"xy\"}, {\"type\": \"domain\"}],\n",
    "           [{\"type\": \"xy\"}, {\"type\": \"xy\"}]],\n",
    "    subplot_titles=(\"Visitors per Zone\", \"Seat Utilization by Zone\",\n",
    "                    \"Available Seats per Zone\", \"Visitors vs Occupancy\")\n",
    ")\n",
    "\n",
    "# Chart 1 - Bar: Visitors\n",
    "fig.add_trace(go.Bar(x=df['Zone'], y=df['Visitors'], name='Visitors', marker_color='indianred'), row=1, col=1)\n",
    "\n",
    "# Chart 2 - Pie: Utilization\n",
    "fig.add_trace(go.Pie(labels=df['Zone'], values=df['Utilization (%)'], name='Utilization', hole=0.3), row=1, col=2)\n",
    "\n",
    "# Chart 3 - Bar: Available Seats\n",
    "fig.add_trace(go.Bar(x=df['Zone'], y=df['Available Seats'], name='Available Seats', marker_color='lightskyblue'), row=2, col=1)\n",
    "\n",
    "# Chart 4 - Scatter: Visitors vs Occupancy\n",
    "fig.add_trace(go.Scatter(\n",
    "    x=df['Visitors'],\n",
    "    y=df['Occupancy'],\n",
    "    mode='markers',\n",
    "    marker=dict(size=df['Utilization (%)'], color='mediumseagreen', sizemode='area', sizeref=2.*max_util/(40.**2), sizemin=4),\n",
    "    text=df['Zone'],\n",
    "    name='Visitors vs Occupancy'), row=2, col=2)\n",
    "\n",
    "fig.update_layout(height=800, width=1100, showlegend=False, title_text=\"Library Usage Overview (2x2 Layout)\")\n",
    "fig.show()\n",
    "\n",
    "# Dropdown for zone detail view\n",
    "dropdown = widgets.Dropdown(options=areas, description=\"Select Zone\")\n",
    "\n",
    "def show_area_detail(selected_area):\n",
    "    area_data = df[df['Zone'] == selected_area].iloc[0]\n",
    "    display(Markdown(f\"\"\"\n",
    "### \\U0001F4CD Zone: {selected_area}\n",
    "- \\U0001F465 Current Visitors: **{area_data['Visitors']}**\n",
    "- \\U0001F9F4 Total Seats: **{area_data['Total Seats']}**\n",
    "- ✅ Available Seats: **{area_data['Available Seats']}**\n",
    "- \\U0001F501 Utilization Rate: **{area_data['Utilization (%)']}%**\n",
    "\"\"\"))\n",
    "\n",
    "widgets.interact(show_area_detail, selected_area=dropdown)\n"
   ]
  },
  {
   "cell_type": "code",
   "execution_count": null,
   "id": "a9f3f3ca-c490-43b8-9900-0998b0c90eb3",
   "metadata": {},
   "outputs": [],
   "source": []
  }
 ],
 "metadata": {
  "kernelspec": {
   "display_name": "anaconda-panel-2023.05-py310",
   "language": "python",
   "name": "conda-env-anaconda-panel-2023.05-py310-py"
  },
  "language_info": {
   "codemirror_mode": {
    "name": "ipython",
    "version": 3
   },
   "file_extension": ".py",
   "mimetype": "text/x-python",
   "name": "python",
   "nbconvert_exporter": "python",
   "pygments_lexer": "ipython3",
   "version": "3.11.5"
  }
 },
 "nbformat": 4,
 "nbformat_minor": 5
}
